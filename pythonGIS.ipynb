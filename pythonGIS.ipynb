{
 "cells": [
  {
   "cell_type": "code",
   "execution_count": null,
   "id": "2e37c34b",
   "metadata": {},
   "outputs": [],
   "source": [
    "pip install folium"
   ]
  },
  {
   "cell_type": "code",
   "execution_count": null,
   "id": "139bda9e",
   "metadata": {},
   "outputs": [],
   "source": [
    "import folium"
   ]
  },
  {
   "cell_type": "code",
   "execution_count": null,
   "id": "a5ebb1ad",
   "metadata": {},
   "outputs": [],
   "source": [
    "!pip install psycopg2-binary"
   ]
  },
  {
   "cell_type": "code",
   "execution_count": 3,
   "id": "9ebfa725",
   "metadata": {},
   "outputs": [],
   "source": [
    "import psycopg2"
   ]
  },
  {
   "cell_type": "code",
   "execution_count": 4,
   "id": "f5c33428",
   "metadata": {},
   "outputs": [],
   "source": [
    "conn = psycopg2.connect(database=\"osm\",\n",
    "                        host=\"localhost\",\n",
    "                        user=\"postgres\",\n",
    "                        password=\"00000\",\n",
    "                        port=\"5432\")"
   ]
  },
  {
   "cell_type": "code",
   "execution_count": 5,
   "id": "e2e65f8c",
   "metadata": {},
   "outputs": [],
   "source": [
    "db = conn.cursor()\n",
    "#query point : 105.8475554, 21.007130000404484\n",
    "#test point :105.85062869999999 21.00922750040452"
   ]
  },
  {
   "cell_type": "markdown",
   "id": "9bcc5b21",
   "metadata": {},
   "source": [
    "# IER"
   ]
  },
  {
   "cell_type": "code",
   "execution_count": 28,
   "id": "657200a5",
   "metadata": {},
   "outputs": [],
   "source": [
    "def IED(long, lat):\n",
    "    path=[]\n",
    "    #find euclide NN\n",
    "    db.execute(f\"\"\"select long, lat FROM geometries\n",
    "                where amenity='restaurant'\n",
    "                order by ST_Distance(ST_Transform(ST_SetSRID(ST_MakePoint({long}, {lat}), 4326), 3857), \n",
    "                                ST_Transform(ST_SetSRID(ST_MakePoint(long, lat), 4326), 3857)) \n",
    "                limit 1\"\"\")\n",
    "    qPoint=db.fetchall()\n",
    "    #find network routing\n",
    "    #qPoint[0][0],qPoint[0][1]: longtitude and latitude of NN point \n",
    "    db.execute(f\"\"\"\n",
    "                WITH start AS (\n",
    "              SELECT topo.source \n",
    "              FROM osm_2po_4pgr as topo\n",
    "              ORDER BY topo.geom_way <-> ST_SetSRID(\n",
    "                ST_GeomFromText('POINT ({long} {lat})'),\n",
    "                      4326)\n",
    "                      LIMIT 1\n",
    "                    ),\n",
    "                destination AS (\n",
    "                  SELECT topo.source \n",
    "                  FROM osm_2po_4pgr as topo\n",
    "                  ORDER BY topo.geom_way <-> ST_SetSRID(\n",
    "                ST_GeomFromText('POINT ({qPoint[0][0]} {qPoint[0][1]})'),\n",
    "                      4326)\n",
    "                  LIMIT 1\n",
    "                    )\n",
    "                SELECT sum(di.cost) as realcost,ST_Union(geom_way) as path\n",
    "                    FROM pgr_dijkstra('\n",
    "                SELECT id,\n",
    "                     source,\n",
    "                     target,\n",
    "                     ST_Length(ST_Transform(geom_way, 3857)) AS cost\n",
    "                        FROM osm_2po_4pgr',\n",
    "                    array(SELECT source FROM start),\n",
    "                    array(SELECT source FROM destination),\n",
    "                    directed := false) AS di\n",
    "                    JOIN   osm_2po_4pgr AS pt\n",
    "                      ON   di.edge = pt.id\n",
    "                      \"\"\")\n",
    "    result=db.fetchall()\n",
    "    DEmax= result[0][0]\n",
    "    path= result[0][1]\n",
    "    #find candidate in this network routing\n",
    "    db.execute(f\"\"\"select long, lat FROM geometries\n",
    "                where amenity='restaurant'\n",
    "                and ST_Distance(ST_Transform(ST_SetSRID(ST_MakePoint({long}, {lat}), 4326), 3857), \n",
    "                                ST_Transform(ST_SetSRID(ST_MakePoint(long, lat), 4326), 3857))<=  {DEmax}\n",
    "                \"\"\")\n",
    "    NN=db.fetchall()\n",
    "    #find result\n",
    "    for i in NN:\n",
    "        db.execute(f\"\"\"\n",
    "                WITH start AS (\n",
    "                      SELECT topo.source \n",
    "                      FROM osm_2po_4pgr as topo\n",
    "                      ORDER BY topo.geom_way <-> ST_SetSRID(\n",
    "                                ST_GeomFromText('POINT ({long} {lat})'),4326)\n",
    "                      LIMIT 1\n",
    "                                ),\n",
    "                    destination AS (\n",
    "                          SELECT topo.source \n",
    "                          FROM osm_2po_4pgr as topo\n",
    "                          ORDER BY topo.geom_way <-> ST_SetSRID(\n",
    "                            ST_GeomFromText('POINT ({i[0]} {i[1]})'),4326)\n",
    "                          LIMIT 1\n",
    "                                    )\n",
    "                SELECT ST_AsText(ST_Union(geom_way)), sum(di.cost) as realcost\n",
    "                    FROM pgr_dijkstra('\n",
    "                            SELECT id,\n",
    "                                   source,\n",
    "                                   target,\n",
    "                                    ST_Length(ST_Transform(geom_way, 3857)) AS cost\n",
    "                            FROM osm_2po_4pgr',\n",
    "                                    array(SELECT source FROM start),\n",
    "                                    array(SELECT source FROM destination),\n",
    "                                    directed := false) AS di\n",
    "                    JOIN   osm_2po_4pgr AS pt\n",
    "                    ON   di.edge = pt.id\n",
    "                      \"\"\")\n",
    "        x=db.fetchall()\n",
    "        if(x[0][1]>DEmax) : continue\n",
    "        else:\n",
    "            path=x[0][0]\n",
    "            DEmax =x[0][1]\n",
    "            qPoint=i\n",
    "    return qPoint, DEmax, path "
   ]
  },
  {
   "cell_type": "code",
   "execution_count": 29,
   "id": "d2a63730",
   "metadata": {
    "scrolled": true
   },
   "outputs": [
    {
     "data": {
      "text/plain": [
       "((105.8068682, 21.033045300404943),\n",
       " 471.871298337968,\n",
       " 'MULTILINESTRING((105.8035522 21.0317839,105.8036057 21.031756,105.8037051 21.0317041,105.8041041 21.0314911,105.8042574 21.0314584,105.8043078 21.0314273,105.8044495 21.031407,105.8045519 21.0314498,105.8046592 21.0315475,105.8047719 21.0316401,105.8048496 21.0316927,105.8048891 21.0316887,105.8050964 21.0316676,105.8051715 21.0316651,105.8053484 21.0316726,105.805693 21.0321733),(105.805693 21.0321733,105.8059144 21.0326189),(105.8059144 21.0326189,105.8060016 21.0327537,105.8061194 21.0327128,105.8061471 21.0327422),(105.8061471 21.0327422,105.8062683 21.032994),(105.8062683 21.032994,105.8064193 21.0333239,105.806441 21.0333701))')"
      ]
     },
     "execution_count": 29,
     "metadata": {},
     "output_type": "execute_result"
    }
   ],
   "source": [
    "IED(105.8042238, 21.030628300404896)"
   ]
  },
  {
   "cell_type": "code",
   "execution_count": null,
   "id": "d5b95718",
   "metadata": {},
   "outputs": [],
   "source": [
    "POINT(105.8367243 20.991411700404193)"
   ]
  },
  {
   "cell_type": "code",
   "execution_count": null,
   "id": "cbadb843",
   "metadata": {},
   "outputs": [],
   "source": [
    "POINT(105.8502594 20.997397700404303)"
   ]
  },
  {
   "cell_type": "code",
   "execution_count": null,
   "id": "c1ca7642",
   "metadata": {},
   "outputs": [],
   "source": [
    "#NN p1\n",
    "IED(105.8367243, 20.991411700404193)"
   ]
  },
  {
   "cell_type": "code",
   "execution_count": null,
   "id": "c323b642",
   "metadata": {},
   "outputs": [],
   "source": [
    "#NN p2\n",
    "IED(105.8502594, 20.997397700404303)"
   ]
  },
  {
   "cell_type": "markdown",
   "id": "01e04a89",
   "metadata": {},
   "source": [
    "# NN to 2 given point"
   ]
  },
  {
   "cell_type": "markdown",
   "id": "d6c64c52",
   "metadata": {},
   "source": [
    "## method 1 candidat by IER"
   ]
  },
  {
   "cell_type": "code",
   "execution_count": 24,
   "id": "0c5757d4",
   "metadata": {},
   "outputs": [],
   "source": [
    "# find NN by IER\n",
    "def givenP(long, lat):\n",
    "    path=[]\n",
    "    #find euclide NN\n",
    "    db.execute(f\"\"\"select long, lat FROM geometries_vn\n",
    "                where amenity='restaurant'\n",
    "                AND ST_Within(way, (SELECT way FROM planet_osm_polygon p WHERE p.osm_id ='-9421134'))\n",
    "                order by ST_Distance(ST_Transform(ST_SetSRID(ST_MakePoint({long}, {lat}), 4326), 3857), \n",
    "                                ST_Transform(ST_SetSRID(ST_MakePoint(long, lat), 4326), 3857)) \n",
    "                                \n",
    "                limit 1\"\"\")\n",
    "    qPoint=db.fetchall()\n",
    "    #find network routing\n",
    "    db.execute(f\"\"\"\n",
    "                WITH start AS (\n",
    "              SELECT topo.source \n",
    "              FROM osm_2po_4pgr as topo\n",
    "              ORDER BY topo.geom_way <-> ST_SetSRID(\n",
    "                ST_GeomFromText('POINT ({long} {lat})'),\n",
    "                      4326)\n",
    "                      LIMIT 1\n",
    "                    ),\n",
    "                destination AS (\n",
    "                  SELECT topo.source \n",
    "                  FROM osm_2po_4pgr as topo\n",
    "                  ORDER BY topo.geom_way <-> ST_SetSRID(\n",
    "                ST_GeomFromText('POINT ({qPoint[0][0]} {qPoint[0][1]})'),\n",
    "                      4326)\n",
    "                  LIMIT 1\n",
    "                    )\n",
    "                SELECT sum(di.cost) as realcost,ST_Union(geom_way) as path\n",
    "                    FROM pgr_dijkstra('\n",
    "                SELECT id,\n",
    "                     source,\n",
    "                     target,\n",
    "                     ST_Length(ST_Transform(geom_way, 3857)) AS cost\n",
    "                        FROM osm_2po_4pgr',\n",
    "                    array(SELECT source FROM start),\n",
    "                    array(SELECT source FROM destination),\n",
    "                    directed := false) AS di\n",
    "                    JOIN   osm_2po_4pgr AS pt\n",
    "                      ON   di.edge = pt.id\n",
    "                      \"\"\")\n",
    "    result=db.fetchall()\n",
    "    DEmax= result[0][0]\n",
    "    path= result[0][1]\n",
    "    #find candidate in this network routing\n",
    "    db.execute(f\"\"\"select long, lat FROM geometries_vn\n",
    "                where amenity='restaurant'\n",
    "                AND ST_Within(way, (SELECT way FROM planet_osm_polygon p WHERE p.osm_id ='-9421134'))\n",
    "                and ST_Distance(ST_Transform(ST_SetSRID(ST_MakePoint({long}, {lat}), 4326), 3857), \n",
    "                                ST_Transform(ST_SetSRID(ST_MakePoint(long, lat), 4326), 3857))<=  {DEmax}\n",
    "                \"\"\")\n",
    "    NN=db.fetchall()\n",
    "    #find result\n",
    "    for i in NN:\n",
    "        db.execute(f\"\"\"\n",
    "                WITH start AS (\n",
    "                      SELECT topo.source \n",
    "                      FROM osm_2po_4pgr as topo\n",
    "                      ORDER BY topo.geom_way <-> ST_SetSRID(\n",
    "                                ST_GeomFromText('POINT ({long} {lat})'),4326)\n",
    "                      LIMIT 1\n",
    "                                ),\n",
    "                    destination AS (\n",
    "                          SELECT topo.source \n",
    "                          FROM osm_2po_4pgr as topo\n",
    "                          ORDER BY topo.geom_way <-> ST_SetSRID(\n",
    "                            ST_GeomFromText('POINT ({i[0]} {i[1]})'),4326)\n",
    "                          LIMIT 1\n",
    "                                    )\n",
    "                SELECT (ST_Union(geom_way)), sum(di.cost) as realcost\n",
    "                    FROM pgr_dijkstra('\n",
    "                            SELECT id,\n",
    "                                   source,\n",
    "                                   target,\n",
    "                                    ST_Length(ST_Transform(geom_way, 3857)) AS cost\n",
    "                            FROM osm_2po_4pgr',\n",
    "                                    array(SELECT source FROM start),\n",
    "                                    array(SELECT source FROM destination),\n",
    "                                    directed := false) AS di\n",
    "                    JOIN   osm_2po_4pgr AS pt\n",
    "                    ON   di.edge = pt.id\n",
    "                      \"\"\")\n",
    "        x=db.fetchall()\n",
    "        if(x[0][1]>DEmax) : continue\n",
    "        else:\n",
    "            path=x[0][0]\n",
    "            DEmax =x[0][1]\n",
    "            qPoint=i\n",
    "    return qPoint, DEmax, path "
   ]
  },
  {
   "cell_type": "code",
   "execution_count": 5,
   "id": "1dea1975",
   "metadata": {},
   "outputs": [],
   "source": [
    "#givenP(105.8367243, 20.991411700404193)\n",
    "##NN1="
   ]
  },
  {
   "cell_type": "code",
   "execution_count": 6,
   "id": "8a295a99",
   "metadata": {},
   "outputs": [],
   "source": [
    "#givenP(105.8502594, 20.997397700404303)\n",
    "#NN2="
   ]
  },
  {
   "cell_type": "code",
   "execution_count": 25,
   "id": "98f99f74",
   "metadata": {},
   "outputs": [],
   "source": [
    "#calculating the cost by network routing from NN above to 2 given point\n",
    "\n",
    "def cost2point(long, lat, long1, lat1, long2, lat2):\n",
    "    db.execute(f\"\"\"\n",
    "                WITH start1 AS (\n",
    "              SELECT topo.source \n",
    "              FROM osm_2po_4pgr as topo\n",
    "              ORDER BY topo.geom_way <-> ST_SetSRID(\n",
    "                ST_GeomFromText('POINT ({long1} {lat1})'),\n",
    "                      4326)\n",
    "                      LIMIT 1\n",
    "                    ),\n",
    "                start2 AS (\n",
    "                  SELECT topo.source \n",
    "                  FROM osm_2po_4pgr as topo\n",
    "                  ORDER BY topo.geom_way <-> ST_SetSRID(\n",
    "                ST_GeomFromText('POINT ({long2} {lat2})'),\n",
    "                      4326)\n",
    "                  LIMIT 1\n",
    "                    ),\n",
    "                    destination AS (\n",
    "                  SELECT topo.source \n",
    "                  FROM osm_2po_4pgr as topo\n",
    "                  ORDER BY topo.geom_way <-> ST_SetSRID(\n",
    "                ST_GeomFromText('POINT ({long} {lat})'),\n",
    "                      4326)\n",
    "                  LIMIT 1\n",
    "                    )\n",
    "                    \n",
    "                SELECT sum(di.cost) as realcost,ST_Union(geom_way) as path\n",
    "                    FROM pgr_dijkstra('\n",
    "                SELECT id,\n",
    "                     source,\n",
    "                     target,\n",
    "                     ST_Length(ST_Transform(geom_way, 3857)) AS cost\n",
    "                        FROM osm_2po_4pgr',\n",
    "                    array(SELECT source FROM start1 UNION SELECT source from start2),\n",
    "                    array(SELECT source FROM destination),\n",
    "                    directed := false) AS di\n",
    "                    JOIN   osm_2po_4pgr AS pt\n",
    "                      ON   di.edge = pt.id\n",
    "                      \"\"\")\n",
    "    result=db.fetchall()\n",
    "    cost= result[0][0]\n",
    "    return cost"
   ]
  },
  {
   "cell_type": "code",
   "execution_count": 26,
   "id": "8ee893af",
   "metadata": {},
   "outputs": [
    {
     "data": {
      "text/plain": [
       "2394.4960088968674"
      ]
     },
     "execution_count": 26,
     "metadata": {},
     "output_type": "execute_result"
    }
   ],
   "source": [
    "cost2point(105.8457825, 20.997738100404312,105.8367243, 20.991411700404193,105.8502594, 20.997397700404303)\n",
    "#sum cost of NN1"
   ]
  },
  {
   "cell_type": "code",
   "execution_count": 27,
   "id": "f1b6dc25",
   "metadata": {},
   "outputs": [
    {
     "data": {
      "text/plain": [
       "2529.2696374778766"
      ]
     },
     "execution_count": 27,
     "metadata": {},
     "output_type": "execute_result"
    }
   ],
   "source": [
    "cost2point(105.8503479, 20.99818290040432,105.8367243, 20.991411700404193,105.8502594, 20.997397700404303)\n",
    "#sum_cost NN2"
   ]
  },
  {
   "cell_type": "code",
   "execution_count": 28,
   "id": "40013d31",
   "metadata": {},
   "outputs": [],
   "source": [
    "#cost by NN1 is smaller, then => query point from point2 with euclide = NN1, 105.84089229999998, 20.995627400404274"
   ]
  },
  {
   "cell_type": "code",
   "execution_count": 29,
   "id": "123d7e57",
   "metadata": {},
   "outputs": [],
   "source": [
    "from functools import reduce"
   ]
  },
  {
   "cell_type": "code",
   "execution_count": 30,
   "id": "2a85adcd",
   "metadata": {},
   "outputs": [],
   "source": [
    "#finding all candidate which is within smaller network routing distance\n",
    "\n",
    "def candidate(long1,lat1,long2,lat2,max1):\n",
    "#     max1=2394.4960088968674\n",
    "#     max2=2529.2696374778766\n",
    "    waste=0\n",
    "    can=[]\n",
    "    path=1\n",
    "    result=1\n",
    "    end=[]\n",
    "    db.execute(f\"\"\"\n",
    "    select long, lat FROM geometries\n",
    "                where amenity='restaurant'\n",
    "                AND ST_Within(way, (SELECT way FROM planet_osm_polygon p WHERE p.osm_id ='-9421134'))\n",
    "                AND  ST_Distance(ST_Transform(ST_SetSRID(ST_MakePoint({long2}, {lat2}), 4326), 3857), \n",
    "                                ST_Transform(ST_SetSRID(ST_MakePoint(long, lat), 4326), 3857)) <=  {max1}\n",
    "                                \n",
    "                \"\"\")\n",
    "    qPoint1=db.fetchall()\n",
    "    db.execute(f\"\"\"\n",
    "    select long, lat FROM geometries\n",
    "                where amenity='restaurant'\n",
    "                AND ST_Within(way, (SELECT way FROM planet_osm_polygon p WHERE p.osm_id ='-9421134'))\n",
    "                AND  ST_Distance(ST_Transform(ST_SetSRID(ST_MakePoint({long1}, {lat1}), 4326), 3857), \n",
    "                                ST_Transform(ST_SetSRID(ST_MakePoint(long, lat), 4326), 3857)) <=  {max1}\n",
    "                                \n",
    "                \"\"\")\n",
    "    qPoint2=db.fetchall()\n",
    "# #     db.execute(f\"\"\"\n",
    "# #     select long, lat FROM geometries\n",
    "# #                 where amenity='fast_food'\n",
    "# #                 AND ST_Within(way, (SELECT way FROM planet_osm_polygon p WHERE p.osm_id ='-9421134'))\n",
    "# #                 AND  ST_Distance(ST_Transform(ST_SetSRID(ST_MakePoint({long1}, {lat1}), 4326), 3857), \n",
    "# #                                 ST_Transform(ST_SetSRID(ST_MakePoint(long, lat), 4326), 3857)) <=  {max1}\n",
    "                                \n",
    "# #                 \"\"\")\n",
    "# #     qPoint1=db.fetchall()\n",
    "    intersection = reduce(lambda acc, x: acc + [x] if x in qPoint1 and x not in acc else acc, qPoint2, [])\n",
    "#     #find network routing\n",
    "    for i in intersection:\n",
    "        db.execute(f\"\"\"\n",
    "                WITH start1 AS (\n",
    "                      SELECT topo.source \n",
    "                      FROM osm_2po_4pgr as topo\n",
    "                      ORDER BY topo.geom_way <-> ST_SetSRID(\n",
    "                                ST_GeomFromText('POINT ({long1} {lat1})'),4326)\n",
    "                      LIMIT 1\n",
    "                                ),\n",
    "                    start2 AS (\n",
    "                      SELECT topo.source \n",
    "                      FROM osm_2po_4pgr as topo\n",
    "                      ORDER BY topo.geom_way <-> ST_SetSRID(\n",
    "                                ST_GeomFromText('POINT ({long2} {lat2})'),4326)\n",
    "                      LIMIT 1\n",
    "                                ),\n",
    "                    destination AS (\n",
    "                          SELECT topo.source \n",
    "                          FROM osm_2po_4pgr as topo\n",
    "                          ORDER BY topo.geom_way <-> ST_SetSRID(\n",
    "                            ST_GeomFromText('POINT ({i[0]} {i[1]})'),4326)\n",
    "                          LIMIT 1\n",
    "                                    )\n",
    "                SELECT ST_AsText(ST_Union(geom_way)), sum(di.cost) as realcost\n",
    "                    FROM pgr_dijkstra('\n",
    "                            SELECT id,\n",
    "                                   source,\n",
    "                                   target,\n",
    "                                    ST_Length(ST_Transform(geom_way, 3857)) AS cost\n",
    "                            FROM osm_2po_4pgr',\n",
    "                                    array(SELECT source FROM start1 UNION SELECT source FROM start2),\n",
    "                                    array(SELECT source FROM destination),\n",
    "                                    directed := false) AS di\n",
    "                    JOIN   osm_2po_4pgr AS pt\n",
    "                    ON   di.edge = pt.id\n",
    "                      \"\"\")\n",
    "        x=db.fetchall()\n",
    "        #end.append(x[0][1])\n",
    "        if(x[0][1]>max1) : continue\n",
    "        else:\n",
    "            path=x[0][0]\n",
    "            waste =x[0][1]\n",
    "            result=i\n",
    "    return result, waste, path\n",
    "\n",
    "    #return end"
   ]
  },
  {
   "cell_type": "markdown",
   "id": "0ecb75d4",
   "metadata": {},
   "source": [
    "#### My function"
   ]
  },
  {
   "cell_type": "code",
   "execution_count": 31,
   "id": "b7cb7e5f",
   "metadata": {},
   "outputs": [],
   "source": [
    "def path2point(long1, lat1, long2,lat2):\n",
    "    NN1=givenP(long1,lat1)\n",
    "    NN2=givenP(long2,lat2)\n",
    "    x1=cost2point(NN1[0][0],NN1[0][1],long1, lat1, long2,lat2)\n",
    "    x2=cost2point(NN2[0][0],NN2[0][1],long1, lat1, long2,lat2)\n",
    "    if x1>=x2:\n",
    "        result=candidate(long1, lat1, long2,lat2,x2)\n",
    "    else: result=candidate(long1, lat1, long2,lat2,x1)\n",
    "    return result"
   ]
  },
  {
   "cell_type": "code",
   "execution_count": 32,
   "id": "5cd307ac",
   "metadata": {},
   "outputs": [],
   "source": [
    "# need to build filter by NN euclide and then overlap"
   ]
  },
  {
   "cell_type": "code",
   "execution_count": 33,
   "id": "46c8538c",
   "metadata": {},
   "outputs": [
    {
     "data": {
      "text/plain": [
       "((105.84603819999998, 20.996801500404292),\n",
       " 2120.7846004646144,\n",
       " 'MULTILINESTRING((105.8499573 20.9961284,105.8499753 20.9962416,105.8500515 20.9968868),(105.8499573 20.9961284,105.8497983 20.9961312,105.849507 20.9961644),(105.849507 20.9961644,105.8488094 20.996249),(105.8488094 20.996249,105.848604 20.9962714),(105.848604 20.9962714,105.8479447 20.9963545,105.8473146 20.9964319),(105.8473146 20.9964319,105.8471702 20.9964571),(105.8471702 20.9964571,105.8467169 20.9965467,105.8466767 20.9965546,105.8466055 20.9965725),(105.8367366 20.9924172,105.8368404 20.9918063),(105.8366609 20.9928628,105.8366681 20.9928202,105.8367366 20.9924172),(105.8366609 20.9928628,105.8366981 20.9928678),(105.8366981 20.9928678,105.8368966 20.9928904),(105.8368966 20.9928904,105.8369411 20.9928943),(105.8370216 20.9929323,105.8369411 20.9928943),(105.8373479 20.9930114,105.837094 20.9929565,105.8370548 20.992948,105.8370216 20.9929323),(105.8372977 20.9933642,105.8373265 20.9931617,105.8373479 20.9930114),(105.8372977 20.9933642,105.837425 20.9933887,105.8375028 20.9934538,105.8377844 20.9934914,105.8379695 20.9935164,105.8381626 20.993539,105.8383128 20.9935565,105.8384335 20.9936066,105.8385381 20.9936842,105.8386382 20.9938019),(105.8387341 20.9937786,105.8386382 20.9938019),(105.8387341 20.9937786,105.8387543 20.9938802),(105.8387543 20.9938802,105.8387934 20.9940762),(105.8387934 20.9940762,105.8388008 20.9941106),(105.8388008 20.9941106,105.8388042 20.99414),(105.8398474 20.9950765,105.8398393 20.9948194,105.8394164 20.9944322,105.8390424 20.9941665,105.8388698 20.9941401,105.8388042 20.99414),(105.8398188 20.9950736,105.8398474 20.9950765),(105.8398188 20.9950736,105.8398269 20.9953795),(105.8398269 20.9953795,105.8398296 20.9954221),(105.8398296 20.9954221,105.8398057 20.9957021),(105.840321 20.9959542,105.84005 20.9958216,105.8398057 20.9957021),(105.8409287 20.9960593,105.8407337 20.9960557,105.840321 20.9959542),(105.84104 20.9960307,105.8409287 20.9960593),(105.8410896 20.9960085,105.84104 20.9960307),(105.841117 20.9969228,105.8410896 20.9960085),(105.8413634 20.9969164,105.841117 20.9969228),(105.8413626 20.9968616,105.8413634 20.9969164),(105.8413626 20.9968616,105.8414208 20.9969001,105.841742 20.9971127,105.8419075 20.9972222,105.8421428 20.9973765),(105.8421428 20.9973765,105.842188 20.9973667,105.8422637 20.9973486,105.8427345 20.9972362),(105.8427345 20.9972362,105.8431147 20.9971397,105.8434023 20.9970654),(105.8434023 20.9970654,105.8434974 20.997043),(105.8434974 20.997043,105.8437617 20.9970426,105.844624 20.9968354,105.8451222 20.9967124),(105.8451222 20.9967124,105.845588 20.9965973,105.8457219 20.9965642),(105.8457219 20.9965642,105.8457682 20.9967378),(105.8466055 20.9965725,105.846202 20.9966271,105.8459225 20.9966984,105.8457682 20.9967378))')"
      ]
     },
     "execution_count": 33,
     "metadata": {},
     "output_type": "execute_result"
    }
   ],
   "source": [
    "path2point(105.8367243, 20.991411700404193,105.8502594, 20.997397700404303)"
   ]
  },
  {
   "cell_type": "markdown",
   "id": "fa1ec2c8",
   "metadata": {},
   "source": [
    "## method 2:candidat by euclide"
   ]
  },
  {
   "cell_type": "code",
   "execution_count": 34,
   "id": "8dfb9a00",
   "metadata": {},
   "outputs": [],
   "source": [
    "from functools import reduce"
   ]
  },
  {
   "cell_type": "code",
   "execution_count": 35,
   "id": "d0ebb637",
   "metadata": {},
   "outputs": [],
   "source": [
    "def euclid(long,lat):\n",
    "    db.execute(f\"\"\"select long, lat,\n",
    "    ST_Distance(ST_Transform(ST_SetSRID(ST_MakePoint({long}, {lat}), 4326), 3857), \n",
    "                                ST_Transform(ST_SetSRID(ST_MakePoint(long, lat), 4326), 3857)) \n",
    "    FROM geometries_vn\n",
    "                where amenity='restaurant'\n",
    "                AND ST_Within(way, (SELECT way FROM planet_osm_polygon p WHERE p.osm_id ='-9421134'))\n",
    "                order by ST_Distance(ST_Transform(ST_SetSRID(ST_MakePoint({long}, {lat}), 4326), 3857), \n",
    "                                ST_Transform(ST_SetSRID(ST_MakePoint(long, lat), 4326), 3857)) \n",
    "                                \n",
    "                limit 1\"\"\")\n",
    "    NN=db.fetchall()\n",
    "    return NN"
   ]
  },
  {
   "cell_type": "code",
   "execution_count": 36,
   "id": "c89d7bb8",
   "metadata": {},
   "outputs": [
    {
     "data": {
      "text/plain": [
       "[(105.84415592757635, 20.99778753353857, 1123.538463710309)]"
      ]
     },
     "execution_count": 36,
     "metadata": {},
     "output_type": "execute_result"
    }
   ],
   "source": [
    "x1=euclid(105.8367243, 20.991411700404193)\n",
    "x1"
   ]
  },
  {
   "cell_type": "code",
   "execution_count": 37,
   "id": "a8a4e775",
   "metadata": {},
   "outputs": [
    {
     "data": {
      "text/plain": [
       "[(105.85063121852589, 20.999756697279977, 284.31149388834945)]"
      ]
     },
     "execution_count": 37,
     "metadata": {},
     "output_type": "execute_result"
    }
   ],
   "source": [
    "x2=euclid(105.8502594, 20.997397700404303)\n",
    "x2"
   ]
  },
  {
   "cell_type": "code",
   "execution_count": 38,
   "id": "70b1d3f5",
   "metadata": {},
   "outputs": [],
   "source": [
    "def find_NN(long,lat,max1):   \n",
    "    db.execute(f\"\"\"\n",
    "    select long, lat FROM geometries_vn\n",
    "                where amenity='restaurant'\n",
    "                AND ST_Within(way, (SELECT way FROM planet_osm_polygon p WHERE p.osm_id ='-9421134'))\n",
    "                AND  ST_Distance(ST_Transform(ST_SetSRID(ST_MakePoint({long}, {lat}), 4326), 3857), \n",
    "                                ST_Transform(ST_SetSRID(ST_MakePoint(long, lat), 4326), 3857)) <=  {max1}\n",
    "                                \n",
    "                \"\"\")\n",
    "    Point=db.fetchall()\n",
    "    return Point"
   ]
  },
  {
   "cell_type": "code",
   "execution_count": 39,
   "id": "4a671360",
   "metadata": {},
   "outputs": [
    {
     "data": {
      "text/plain": [
       "[(105.84415592757635, 20.99778753353857)]"
      ]
     },
     "execution_count": 39,
     "metadata": {},
     "output_type": "execute_result"
    }
   ],
   "source": [
    "NN1=find_NN(105.8367243, 20.991411700404193,x1[0][2])\n",
    "NN1"
   ]
  },
  {
   "cell_type": "code",
   "execution_count": 40,
   "id": "a8cee2ab",
   "metadata": {},
   "outputs": [
    {
     "data": {
      "text/plain": [
       "[(105.85063121852589, 20.999756697279977),\n",
       " (105.84408432517345, 20.997963931988973),\n",
       " (105.84415592757635, 20.99778753353857),\n",
       " (105.84333377184484, 21.002040406245815)]"
      ]
     },
     "execution_count": 40,
     "metadata": {},
     "output_type": "execute_result"
    }
   ],
   "source": [
    "NN2=find_NN(105.8502594, 20.997397700404303,x1[0][2])\n",
    "NN2"
   ]
  },
  {
   "cell_type": "code",
   "execution_count": 41,
   "id": "0dec237f",
   "metadata": {},
   "outputs": [
    {
     "data": {
      "text/plain": [
       "[(105.84415592757635, 20.99778753353857)]"
      ]
     },
     "execution_count": 41,
     "metadata": {},
     "output_type": "execute_result"
    }
   ],
   "source": [
    "intersection = reduce(lambda acc, x: acc + [x] if x in NN1 and x not in acc else acc, NN2, [])\n",
    "intersection"
   ]
  },
  {
   "cell_type": "code",
   "execution_count": 42,
   "id": "07a4c92b",
   "metadata": {},
   "outputs": [],
   "source": [
    "long1=105.8367243\n",
    "lat1= 20.991411700404193\n",
    "long2=105.8502594\n",
    "lat2=20.997397700404303\n",
    "db.execute(f\"\"\"\n",
    "                WITH start1 AS (\n",
    "                      SELECT topo.source \n",
    "                      FROM osm_2po_4pgr as topo\n",
    "                      ORDER BY topo.geom_way <-> ST_SetSRID(\n",
    "                                ST_GeomFromText('POINT ({long1} {lat1})'),4326)\n",
    "                      LIMIT 1\n",
    "                                ),\n",
    "                    start2 AS (\n",
    "                      SELECT topo.source \n",
    "                      FROM osm_2po_4pgr as topo\n",
    "                      ORDER BY topo.geom_way <-> ST_SetSRID(\n",
    "                                ST_GeomFromText('POINT ({long2} {lat2})'),4326)\n",
    "                      LIMIT 1\n",
    "                                ),\n",
    "                    destination AS (\n",
    "                          SELECT topo.source \n",
    "                          FROM osm_2po_4pgr as topo\n",
    "                          ORDER BY topo.geom_way <-> ST_SetSRID(\n",
    "                            ST_GeomFromText('POINT ({intersection[0][0]} {intersection[0][1]})'),4326)\n",
    "                          LIMIT 1\n",
    "                                    )\n",
    "                SELECT (ST_Union(geom_way)), sum(di.cost) as realcost\n",
    "                    FROM pgr_dijkstra('\n",
    "                            SELECT id,\n",
    "                                   source,\n",
    "                                   target,\n",
    "                                    ST_Length(ST_Transform(geom_way, 3857)) AS cost\n",
    "                            FROM osm_2po_4pgr',\n",
    "                                    array(SELECT source FROM start1 UNION SELECT source FROM start2),\n",
    "                                    array(SELECT source FROM destination),\n",
    "                                    directed := false) AS di\n",
    "                    JOIN   osm_2po_4pgr AS pt\n",
    "                    ON   di.edge = pt.id\n",
    "                      \"\"\")\n",
    "x=db.fetchall()"
   ]
  },
  {
   "cell_type": "code",
   "execution_count": 58,
   "id": "24d07970",
   "metadata": {},
   "outputs": [
    {
     "name": "stdout",
     "output_type": "stream",
     "text": [
      "(105.85063121852589, 20.999756697279977) 105.85063121852589 20.999756697279977\n",
      "(105.84333377184484, 21.002040406245815) 105.84333377184484 21.002040406245815\n",
      "(105.84408432517345, 20.997963931988973) 105.84408432517345 20.997963931988973\n",
      "(105.84415592757635, 20.99778753353857) 105.84415592757635 20.99778753353857\n"
     ]
    }
   ],
   "source": [
    "a=set(NN1).union(NN2)\n",
    "for i in a:\n",
    "    print(i, i[0],i[1])"
   ]
  },
  {
   "cell_type": "code",
   "execution_count": 43,
   "id": "6c99bd3f",
   "metadata": {},
   "outputs": [],
   "source": [
    "conn = psycopg2.connect(database=\"osm\",\n",
    "                        host=\"localhost\",\n",
    "                        user=\"postgres\",\n",
    "                        password=\"00000\",\n",
    "                        port=\"5432\")\n",
    "db = conn.cursor()"
   ]
  },
  {
   "cell_type": "code",
   "execution_count": 59,
   "id": "4c33720a",
   "metadata": {},
   "outputs": [],
   "source": [
    "#find best result in candidate set\n",
    "def intersection(long1, lat1, long2, lat2):\n",
    "    x1= euclid(long1,lat1)\n",
    "    x2= euclid(long2, lat2)\n",
    "    result=[]\n",
    "    if x1[0][2] > x2[0][2]:\n",
    "        max_e=x1[0][2]\n",
    "    else:\n",
    "        max_e=x2[0][2]\n",
    "    NN1= find_NN(long1,lat1, max_e)\n",
    "    NN2= find_NN(long2, lat2,max_e)\n",
    "    #intersection = reduce(lambda acc, x: acc + [x] if x in NN1 and x not in acc else acc, NN2, [])\n",
    "    union = set(NN1).union(NN2)\n",
    "    result=[]\n",
    "    for i in union:\n",
    "        db.execute(f\"\"\"\n",
    "                WITH start1 AS (\n",
    "                      SELECT topo.source \n",
    "                      FROM osm_2po_4pgr as topo\n",
    "                      ORDER BY topo.geom_way <-> ST_SetSRID(\n",
    "                                ST_GeomFromText('POINT ({long1} {lat1})'),4326)\n",
    "                      LIMIT 1\n",
    "                                ),\n",
    "                    start2 AS (\n",
    "                      SELECT topo.source \n",
    "                      FROM osm_2po_4pgr as topo\n",
    "                      ORDER BY topo.geom_way <-> ST_SetSRID(\n",
    "                                ST_GeomFromText('POINT ({long2} {lat2})'),4326)\n",
    "                      LIMIT 1\n",
    "                                ),\n",
    "                    destination AS (\n",
    "                          SELECT topo.source \n",
    "                          FROM osm_2po_4pgr as topo\n",
    "                          ORDER BY topo.geom_way <-> ST_SetSRID(\n",
    "                            ST_GeomFromText('POINT ({i[0]} {i[1]})'),4326)\n",
    "                          LIMIT 1\n",
    "                                    )\n",
    "                SELECT  {i} as point,(ST_Union(geom_way)), sum(di.cost) as realcost\n",
    "                    FROM pgr_dijkstra('\n",
    "                            SELECT id,\n",
    "                                   source,\n",
    "                                   target,\n",
    "                                    ST_Length(ST_Transform(geom_way, 3857)) AS cost\n",
    "                            FROM osm_2po_4pgr',\n",
    "                                    array(SELECT source FROM start1 UNION SELECT source FROM start2),\n",
    "                                    array(SELECT source FROM destination),\n",
    "                                    directed := false) AS di\n",
    "                    JOIN   osm_2po_4pgr AS pt\n",
    "                    ON   di.edge = pt.id\n",
    "                      \"\"\")\n",
    "        x=db.fetchall()\n",
    "        if(x[0][-1] is not None):       \n",
    "            result.append(x)\n",
    "            \n",
    "    sorted_x= sorted(result, key=lambda x: x[0][-1])\n",
    "    return sorted_x[0]\n",
    "    #return result[0]"
   ]
  },
  {
   "cell_type": "markdown",
   "id": "f0567d06",
   "metadata": {},
   "source": [
    "### my function"
   ]
  },
  {
   "cell_type": "code",
   "execution_count": 60,
   "id": "ca980cfc",
   "metadata": {},
   "outputs": [],
   "source": [
    "result=intersection(long1=105.8367243,\n",
    "lat1= 20.991411700404193,\n",
    "long2=105.8502594,\n",
    "lat2=20.997397700404303)"
   ]
  },
  {
   "cell_type": "code",
   "execution_count": 61,
   "id": "6cdc8494",
   "metadata": {},
   "outputs": [
    {
     "data": {
      "text/plain": [
       "[('(105.84415592757635,20.99778753353857)',\n",
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n",
       "  2403.5159154805397)]"
      ]
     },
     "execution_count": 61,
     "metadata": {},
     "output_type": "execute_result"
    }
   ],
   "source": [
    "result"
   ]
  },
  {
   "cell_type": "markdown",
   "id": "86f4dafb",
   "metadata": {},
   "source": [
    "### other: not intersect, just union"
   ]
  },
  {
   "cell_type": "code",
   "execution_count": 62,
   "id": "66c79885",
   "metadata": {},
   "outputs": [],
   "source": [
    "unique_elements = set(NN1).intersection(NN2)\n",
    "unique_list = list(unique_elements)"
   ]
  },
  {
   "cell_type": "code",
   "execution_count": 63,
   "id": "3cd06faa",
   "metadata": {},
   "outputs": [
    {
     "data": {
      "text/plain": [
       "[(105.84415592757635, 20.99778753353857)]"
      ]
     },
     "execution_count": 63,
     "metadata": {},
     "output_type": "execute_result"
    }
   ],
   "source": [
    "unique_list"
   ]
  },
  {
   "cell_type": "code",
   "execution_count": 67,
   "id": "11890daa",
   "metadata": {},
   "outputs": [],
   "source": [
    "test_result=[]\n",
    "for i in unique_list:\n",
    "    db.execute(f\"\"\"\n",
    "                WITH start1 AS (\n",
    "                      SELECT topo.source \n",
    "                      FROM osm_2po_4pgr as topo\n",
    "                      ORDER BY topo.geom_way <-> ST_SetSRID(\n",
    "                                ST_GeomFromText('POINT ({long1} {lat1})'),4326)\n",
    "                      LIMIT 1\n",
    "                                ),\n",
    "                    start2 AS (\n",
    "                      SELECT topo.source \n",
    "                      FROM osm_2po_4pgr as topo\n",
    "                      ORDER BY topo.geom_way <-> ST_SetSRID(\n",
    "                                ST_GeomFromText('POINT ({long2} {lat2})'),4326)\n",
    "                      LIMIT 1\n",
    "                                ),\n",
    "                    destination AS (\n",
    "                          SELECT topo.source \n",
    "                          FROM osm_2po_4pgr as topo\n",
    "                          ORDER BY topo.geom_way <-> ST_SetSRID(\n",
    "                            ST_GeomFromText('POINT ({i[0]} {i[1]})'),4326)\n",
    "                          LIMIT 1\n",
    "                                    )\n",
    "                SELECT {i},(ST_Union(geom_way)), sum(di.cost) as realcost\n",
    "                    FROM pgr_dijkstra('\n",
    "                            SELECT id,\n",
    "                                   source,\n",
    "                                   target,\n",
    "                                    ST_Length(ST_Transform(geom_way, 3857)) AS cost\n",
    "                            FROM osm_2po_4pgr',\n",
    "                                    array(SELECT source FROM start1 UNION SELECT source FROM start2),\n",
    "                                    array(SELECT source FROM destination),\n",
    "                                    directed := false) AS di\n",
    "                    JOIN   osm_2po_4pgr AS pt\n",
    "                    ON   di.edge = pt.id\n",
    "                      \"\"\")\n",
    "    x=db.fetchall()\n",
    "    test_result.append(x)"
   ]
  },
  {
   "cell_type": "code",
   "execution_count": 68,
   "id": "ce4ceec2",
   "metadata": {},
   "outputs": [
    {
     "data": {
      "text/plain": [
       "2403.5159154805397"
      ]
     },
     "execution_count": 68,
     "metadata": {},
     "output_type": "execute_result"
    }
   ],
   "source": [
    "test_result\n",
    "test_result[0][0][-1]"
   ]
  },
  {
   "cell_type": "code",
   "execution_count": 69,
   "id": "6fae514d",
   "metadata": {},
   "outputs": [
    {
     "data": {
      "text/plain": [
       "[[('(105.84415592757635,20.99778753353857)',\n",
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n",
       "   2403.5159154805397)]]"
      ]
     },
     "execution_count": 69,
     "metadata": {},
     "output_type": "execute_result"
    }
   ],
   "source": [
    "sorted_list = sorted(test_result, key=lambda x: x[0][-1])\n",
    "sorted_list"
   ]
  },
  {
   "cell_type": "markdown",
   "id": "90988b92",
   "metadata": {},
   "source": [
    "# with a set of point"
   ]
  },
  {
   "cell_type": "code",
   "execution_count": 70,
   "id": "90a0c809",
   "metadata": {},
   "outputs": [],
   "source": [
    "import psycopg2\n",
    "conn = psycopg2.connect(database=\"osm\",\n",
    "                        host=\"localhost\",\n",
    "                        user=\"postgres\",\n",
    "                        password=\"00000\",\n",
    "                        port=\"5432\")\n",
    "db = conn.cursor()"
   ]
  },
  {
   "cell_type": "code",
   "execution_count": 71,
   "id": "5095e69f",
   "metadata": {},
   "outputs": [],
   "source": [
    "db.execute(f\"\"\"\n",
    "    select long, lat from geometries_vn\n",
    "    where amenity ='hospital'\n",
    "    AND ST_Within(way, (SELECT way FROM planet_osm_polygon p WHERE name = 'Quận Hoàn Kiếm'))\n",
    "\"\"\")\n",
    "h=db.fetchall()"
   ]
  },
  {
   "cell_type": "code",
   "execution_count": 72,
   "id": "28e8080f",
   "metadata": {},
   "outputs": [
    {
     "name": "stdout",
     "output_type": "stream",
     "text": [
      "(105.85294349978018, 21.02541801364248)\n",
      "(105.85014384759315, 21.036902233378417)\n"
     ]
    }
   ],
   "source": [
    "import itertools\n",
    "for b in h:\n",
    "    print(b)"
   ]
  },
  {
   "cell_type": "markdown",
   "id": "a1ac58bb",
   "metadata": {},
   "source": [
    "### my function"
   ]
  },
  {
   "cell_type": "code",
   "execution_count": 73,
   "id": "3a817c19",
   "metadata": {},
   "outputs": [],
   "source": [
    "dis=0\n",
    "end=[]\n",
    "candidat=[]\n",
    "\n",
    "def bePoint():\n",
    "    db.execute(f\"\"\"\n",
    "    select long, lat from geometries\n",
    "    where amenity ='hospital'\n",
    "    AND ST_Within(way, (SELECT way FROM planet_osm_polygon p WHERE osm_id='-9421131'))\n",
    "\"\"\")\n",
    "    h=db.fetchall()\n",
    "    for b in h:\n",
    "        b=b\n",
    "        db.execute(f\"\"\"\n",
    "    select long, lat,\n",
    "    ST_Distance(ST_Transform(ST_SetSRID(ST_MakePoint(105.8548261, 21.024432000404786), 4326), 3857), \n",
    "                                ST_Transform(ST_SetSRID(ST_MakePoint(long, lat), 4326), 3857)) \n",
    "    FROM geometries\n",
    "                where amenity='restaurant'\n",
    "                AND ST_Within(way, (SELECT way FROM planet_osm_polygon p WHERE  osm_id='-9421131'))\n",
    "                order by ST_Distance(ST_Transform(ST_SetSRID(ST_MakePoint(105.8548261, 21.024432000404786), 4326), 3857), \n",
    "                                ST_Transform(ST_SetSRID(ST_MakePoint(long, lat), 4326), 3857)) \n",
    "                limit 1\n",
    "    \n",
    "    \"\"\")\n",
    "    \n",
    "        r= db.fetchall()\n",
    "#     res.append(x)\n",
    "#     sorted_res = sorted(res, key=lambda x: x[0][-1])\n",
    "    \n",
    "        db.execute(f\"\"\"select long, lat,\n",
    "    ST_Distance(ST_Transform(ST_SetSRID(ST_MakePoint({r[0][0]}, {r[0][1]}), 4326), 3857), \n",
    "                                ST_Transform(ST_SetSRID(ST_MakePoint(long, lat), 4326), 3857)) \n",
    "    FROM geometries\n",
    "                where amenity='atm'\n",
    "                AND ST_Within(way, (SELECT way FROM planet_osm_polygon p WHERE  osm_id='-9421131'))\n",
    "                order by ST_Distance(ST_Transform(ST_SetSRID(ST_MakePoint({r[0][0]}, {r[0][1]}), 4326), 3857), \n",
    "                                ST_Transform(ST_SetSRID(ST_MakePoint(long, lat), 4326), 3857)) \n",
    "                                \n",
    "                limit 1\"\"\")\n",
    "        a= db.fetchall() \n",
    "    \n",
    "        if r[0][2]> a[0][2]:\n",
    "            dis= r[0][2]\n",
    "        else:\n",
    "            dis= a[0][2]\n",
    "        \n",
    "        db.execute(f\"\"\"\n",
    "    select long, lat\n",
    "    FROM geometries\n",
    "                where amenity='hospital'\n",
    "                AND ST_Within(way, (SELECT way FROM planet_osm_polygon p WHERE  osm_id='-9421131'))\n",
    "                and ST_Distance(ST_Transform(ST_SetSRID(ST_MakePoint({r[0][0]}, {r[0][1]}), 4326), 3857), \n",
    "                                ST_Transform(ST_SetSRID(ST_MakePoint(long, lat), 4326), 3857))<={dis}  \n",
    "    \"\"\")\n",
    "        h_nn= db.fetchall()\n",
    "    \n",
    "        db.execute(f\"\"\"\n",
    "    select long, lat\n",
    "    FROM geometries\n",
    "                where amenity='atm'\n",
    "                AND ST_Within(way, (SELECT way FROM planet_osm_polygon p WHERE  osm_id='-9421131'))\n",
    "                and ST_Distance(ST_Transform(ST_SetSRID(ST_MakePoint({r[0][0]}, {r[0][1]}), 4326), 3857), \n",
    "                                ST_Transform(ST_SetSRID(ST_MakePoint(long, lat), 4326), 3857))<={dis}  \n",
    "    \"\"\")\n",
    "        a_nn= db.fetchall()\n",
    "    \n",
    "        for i, z in itertools.product(h_nn,a_nn):\n",
    "            db.execute(f\"\"\"\n",
    "            WITH start1 AS (\n",
    "          SELECT topo.source\n",
    "          FROM osm_2po_4pgr as topo\n",
    "          ORDER BY topo.geom_way <-> ST_SetSRID(\n",
    "        ST_GeomFromText('POINT({r[0][0]} {r[0][1]})'),4326) \n",
    "          LIMIT 1)\n",
    "\n",
    "        ,start2 as (\n",
    "        SELECT topo.source\n",
    "          FROM osm_2po_4pgr as topo\n",
    "          ORDER BY topo.geom_way <-> ST_SetSRID(\n",
    "            ST_GeomFromText('POINT({z[0]} {z[1]})'),4326) \n",
    "          LIMIT 1)\n",
    "        ,destination AS (\n",
    "          SELECT topo.source \n",
    "          FROM osm_2po_4pgr as topo\n",
    "          ORDER BY topo.geom_way <-> ST_SetSRID(\n",
    "        ST_GeomFromText('POINT({i[0]} {i[1]})'),4326) \n",
    "          LIMIT 1\n",
    "        )\n",
    "        SELECT ST_Union(geom_way), sum(di.cost) as realcost, {i}, {z},{r[0]}\n",
    "                    FROM pgr_dijkstra('\n",
    "                            SELECT id,\n",
    "                                   source,\n",
    "                                   target,\n",
    "                                    ST_Length(ST_Transform(geom_way, 3857)) AS cost\n",
    "                            FROM osm_2po_4pgr',\n",
    "                                    array(SELECT source FROM start1 ),\n",
    "                                    array(SELECT source FROM destination UNION SELECT source FROM start2),\n",
    "                                    directed := false) AS di\n",
    "                    JOIN   osm_2po_4pgr AS pt\n",
    "                    ON   di.edge = pt.id\n",
    "                      \"\"\")\n",
    "            c= db.fetchall()     \n",
    "#         Some point has not path and cost, it means they are not reach to others\n",
    "#         if c[0][0] is not None:  \n",
    "            candidat.append(c)\n",
    "        end= sorted(candidat, key=lambda x: x[0][1])[0]\n",
    "# #     candidat1= sorted_c\n",
    "#     end.append(candidat)\n",
    "    return end"
   ]
  },
  {
   "cell_type": "code",
   "execution_count": 131,
   "id": "c318fb28",
   "metadata": {},
   "outputs": [
    {
     "data": {
      "text/plain": [
       "[('0102000020E61000000400000004BBAB68BD765A40126E8D637F0635406A6CAF05BD765A40BBAAFDE77A063540CA07F30DBB765A40A314BE0864063540BE45CC91BA765A400BF20E4B5E063540',\n",
       "  63.24046506662777,\n",
       "  '(105.8548261,21.024432000404786)',\n",
       "  '(105.8553356,21.024990100404796)',\n",
       "  '(105.8549087,21.024559900404793,17.810343901958767)')]"
      ]
     },
     "execution_count": 131,
     "metadata": {},
     "output_type": "execute_result"
    }
   ],
   "source": [
    "bePoint() #path, cost, hospital, atm, restaurant"
   ]
  },
  {
   "cell_type": "code",
   "execution_count": 74,
   "id": "d8d6ac81",
   "metadata": {},
   "outputs": [
    {
     "data": {
      "text/plain": [
       "[('0102000020E61000000400000004BBAB68BD765A40126E8D637F0635406A6CAF05BD765A40BBAAFDE77A063540CA07F30DBB765A40A314BE0864063540BE45CC91BA765A400BF20E4B5E063540',\n",
       "  63.24046506662777,\n",
       "  '(105.8548261,21.024432000404786)',\n",
       "  '(105.8553356,21.024990100404796)',\n",
       "  '(105.8549087,21.024559900404793,17.810343901958767)')]"
      ]
     },
     "execution_count": 74,
     "metadata": {},
     "output_type": "execute_result"
    }
   ],
   "source": [
    "bePoint()"
   ]
  },
  {
   "cell_type": "code",
   "execution_count": null,
   "id": "214363cc",
   "metadata": {},
   "outputs": [],
   "source": []
  },
  {
   "cell_type": "code",
   "execution_count": null,
   "id": "5e9748ed",
   "metadata": {},
   "outputs": [],
   "source": []
  },
  {
   "cell_type": "code",
   "execution_count": null,
   "id": "01f6aff4",
   "metadata": {},
   "outputs": [],
   "source": []
  },
  {
   "cell_type": "code",
   "execution_count": null,
   "id": "de85759b",
   "metadata": {},
   "outputs": [],
   "source": []
  },
  {
   "cell_type": "code",
   "execution_count": null,
   "id": "7cba4069",
   "metadata": {},
   "outputs": [],
   "source": []
  },
  {
   "cell_type": "code",
   "execution_count": null,
   "id": "2b85cef7",
   "metadata": {},
   "outputs": [],
   "source": []
  },
  {
   "cell_type": "code",
   "execution_count": null,
   "id": "b76e3d42",
   "metadata": {},
   "outputs": [],
   "source": []
  },
  {
   "cell_type": "code",
   "execution_count": null,
   "id": "ed873a8e",
   "metadata": {},
   "outputs": [],
   "source": []
  },
  {
   "cell_type": "code",
   "execution_count": null,
   "id": "234ea542",
   "metadata": {},
   "outputs": [],
   "source": []
  },
  {
   "cell_type": "code",
   "execution_count": null,
   "id": "df4cb000",
   "metadata": {},
   "outputs": [],
   "source": []
  },
  {
   "cell_type": "code",
   "execution_count": null,
   "id": "af59a394",
   "metadata": {},
   "outputs": [],
   "source": []
  },
  {
   "cell_type": "code",
   "execution_count": null,
   "id": "c070fe16",
   "metadata": {},
   "outputs": [],
   "source": []
  },
  {
   "cell_type": "code",
   "execution_count": null,
   "id": "dd128db1",
   "metadata": {},
   "outputs": [],
   "source": []
  },
  {
   "cell_type": "code",
   "execution_count": null,
   "id": "e54e96aa",
   "metadata": {},
   "outputs": [],
   "source": []
  },
  {
   "cell_type": "code",
   "execution_count": null,
   "id": "0c80ee75",
   "metadata": {},
   "outputs": [],
   "source": []
  },
  {
   "cell_type": "code",
   "execution_count": null,
   "id": "3fb5c750",
   "metadata": {},
   "outputs": [],
   "source": []
  },
  {
   "cell_type": "code",
   "execution_count": null,
   "id": "5ccb9baa",
   "metadata": {},
   "outputs": [],
   "source": []
  },
  {
   "cell_type": "code",
   "execution_count": null,
   "id": "082565c0",
   "metadata": {},
   "outputs": [],
   "source": [
    "# #ST_AsText(ST_Union(geom_way)),sum(di.cost) as realcost\n",
    "# def realcost(long2,lat2):\n",
    "#     db.execute(f\"\"\"\n",
    "#     WITH start AS (\n",
    "#   SELECT topo.source \n",
    "#   FROM osm_2po_4pgr as topo\n",
    "#   ORDER BY topo.geom_way <-> ST_SetSRID(\n",
    "#     ST_GeomFromText('POINT (105.8475554 21.007130000404484)'),\n",
    "#   4326)\n",
    "#   LIMIT 1\n",
    "#     ),\n",
    "#     destination AS (\n",
    "#   SELECT topo.source \n",
    "#   FROM osm_2po_4pgr as topo\n",
    "#   ORDER BY topo.geom_way <-> ST_SetSRID(\n",
    "#     ST_GeomFromText('POINT ({long2} {lat2})'),\n",
    "#   4326)\n",
    "#   LIMIT 1\n",
    "#     )\n",
    "#     SELECT sum(di.cost) as realcost\n",
    "#     FROM pgr_dijkstra('\n",
    "#     SELECT id,\n",
    "#          source,\n",
    "#          target,\n",
    "#          ST_Length(ST_Transform(geom_way, 3857)) AS cost\n",
    "#         FROM osm_2po_4pgr',\n",
    "#     array(SELECT source FROM start),\n",
    "#     array(SELECT source FROM destination),\n",
    "#     directed := false) AS di\n",
    "#     JOIN   osm_2po_4pgr AS pt\n",
    "#   ON   di.edge = pt.id\n",
    "#   \"\"\")\n",
    "#     cost = db.fetchall()\n",
    "#     return cost"
   ]
  },
  {
   "cell_type": "code",
   "execution_count": null,
   "id": "90f5470c",
   "metadata": {},
   "outputs": [],
   "source": [
    "db.execute(\"\"\"SELECT long, lat, ST_Distance( ST_Transform(ST_SetSRID(ST_MakePoint(long, lat), 4326), 3857), \n",
    "                                ST_Transform(ST_SetSRID(ST_MakePoint(105.8475554, 21.007130000404484), 4326), 3857)) as cost \n",
    "            FROM geometries WHERE amenity = 'restaurant' \n",
    "           ORDER BY cost \n",
    "           LIMIT 1;\"\"\"\n",
    "          )"
   ]
  },
  {
   "cell_type": "code",
   "execution_count": null,
   "id": "2cb44c14",
   "metadata": {},
   "outputs": [],
   "source": [
    "NN= db.fetchall()"
   ]
  },
  {
   "cell_type": "code",
   "execution_count": null,
   "id": "eeb4ee12",
   "metadata": {},
   "outputs": [],
   "source": [
    "def euclidcost(long2, lat2):\n",
    "    query = f\"\"\"\n",
    "        SELECT ST_Distance(ST_Transform(ST_SetSRID(ST_MakePoint(105.8475554, 21.007130000404484), 4326), 3857), \n",
    "                           ST_Transform(ST_SetSRID(ST_MakePoint({long2}, {lat2}), 4326), 3857)) as cost\n",
    "        FROM geometries\n",
    "    \"\"\"\n",
    "    db.execute(query)\n",
    "    cost = db.fetchone()\n",
    "    return cost\n",
    "\n",
    "query = f\"\"\"\n",
    "    SELECT long, lat\n",
    "    FROM geometries\n",
    "    WHERE amenity = 'restaurant'\n",
    "    ORDER BY (\n",
    "        SELECT cost\n",
    "        FROM (\n",
    "            SELECT euclidcost(geometries.long, geometries.lat) as cost\n",
    "            FROM geometries\n",
    "        ) AS subquery\n",
    "    )\n",
    "    LIMIT 1\n",
    "\"\"\"\n",
    "\n",
    "db.execute(query)\n"
   ]
  },
  {
   "cell_type": "code",
   "execution_count": null,
   "id": "f06dda93",
   "metadata": {},
   "outputs": [],
   "source": [
    "query = \"\"\"\n",
    "    SELECT long, lat\n",
    "    FROM geometries\n",
    "    WHERE amenity = 'restaurant'\n",
    "    ORDER BY euclidcost(105.8475554::numeric, 21.007130000404484::numeric, geometries.long, geometries.lat)\n",
    "    LIMIT 1\n",
    "\"\"\"\n",
    "\n",
    "db.execute(query)\n"
   ]
  },
  {
   "cell_type": "code",
   "execution_count": null,
   "id": "afa1b1e4",
   "metadata": {},
   "outputs": [],
   "source": []
  },
  {
   "cell_type": "code",
   "execution_count": null,
   "id": "7705e007",
   "metadata": {},
   "outputs": [],
   "source": []
  },
  {
   "cell_type": "code",
   "execution_count": null,
   "id": "b5bf0ead",
   "metadata": {},
   "outputs": [],
   "source": []
  },
  {
   "cell_type": "code",
   "execution_count": null,
   "id": "51ed9ccb",
   "metadata": {},
   "outputs": [],
   "source": []
  },
  {
   "cell_type": "code",
   "execution_count": null,
   "id": "64b44003",
   "metadata": {},
   "outputs": [],
   "source": []
  },
  {
   "cell_type": "code",
   "execution_count": null,
   "id": "13047ade",
   "metadata": {},
   "outputs": [],
   "source": [
    "[(105.85062869999999, 21.00922750040452), (105.8496041, 21.010285700404545)]"
   ]
  },
  {
   "cell_type": "code",
   "execution_count": null,
   "id": "9f10136d",
   "metadata": {},
   "outputs": [],
   "source": [
    "db.execute(\"\"\"\n",
    "WITH start AS (\n",
    "  SELECT topo.source --could also be topo.target\n",
    "  FROM osm_2po_4pgr as topo\n",
    "  ORDER BY topo.geom_way <-> ST_SetSRID(\n",
    "    ST_GeomFromText('POINT (105.8475554 21.007130000404484)'),\n",
    "  4326)\n",
    "  LIMIT 1\n",
    "),\n",
    "destination AS (\n",
    "  SELECT topo.source --could also be topo.target\n",
    "  FROM osm_2po_4pgr as topo\n",
    "  ORDER BY topo.geom_way <-> ST_SetSRID(\n",
    "    ST_GeomFromText('POINT (105.8496041 21.010285700404545)'),\n",
    "  4326)\n",
    "  LIMIT 1\n",
    ")\n",
    "SELECT ST_AsText(ST_Union(geom_way)),sum(di.cost) as realcost\n",
    "FROM pgr_dijkstra('\n",
    "    SELECT id,\n",
    "         source,\n",
    "         target,\n",
    "         ST_Length(ST_Transform(geom_way, 3857)) AS cost\n",
    "        FROM osm_2po_4pgr',\n",
    "    array(SELECT source FROM start),\n",
    "    array(SELECT source FROM destination),\n",
    "    directed := false) AS di\n",
    "JOIN   osm_2po_4pgr AS pt\n",
    "  ON   di.edge = pt.id\n",
    "  \"\"\")"
   ]
  },
  {
   "cell_type": "code",
   "execution_count": null,
   "id": "3fcf1e21",
   "metadata": {},
   "outputs": [],
   "source": [
    "DEmax= db.fetchall()"
   ]
  },
  {
   "cell_type": "code",
   "execution_count": null,
   "id": "dda02021",
   "metadata": {},
   "outputs": [],
   "source": [
    "DEmax"
   ]
  },
  {
   "cell_type": "code",
   "execution_count": null,
   "id": "e6cca752",
   "metadata": {},
   "outputs": [],
   "source": [
    "db.close()"
   ]
  },
  {
   "cell_type": "code",
   "execution_count": null,
   "id": "8c628250",
   "metadata": {},
   "outputs": [],
   "source": [
    "db.execute(\"\"\"SELECT long, lat, ST_Distance(ST_Transform(ST_SetSRID(ST_MakePoint(long, lat), 4326), 3857), \n",
    "                                ST_Transform(ST_SetSRID(ST_MakePoint(105.8475554, 21.007130000404484), 4326), 3857)) as cost \n",
    "            FROM geometries WHERE amenity = 'restaurant' and \n",
    "                                ST_Distance(ST_Transform(ST_SetSRID(ST_MakePoint(long, lat), 4326), 3857), \n",
    "                                ST_Transform(ST_SetSRID(ST_MakePoint(105.8475554, 21.007130000404484), 4326), 3857)) <= 442.6842043808904\n",
    "                                ORDER BY cost\n",
    "                                \"\"\"\n",
    "                                )"
   ]
  },
  {
   "cell_type": "code",
   "execution_count": null,
   "id": "f64e29f7",
   "metadata": {},
   "outputs": [],
   "source": [
    "ANN= db.fetchall()"
   ]
  },
  {
   "cell_type": "code",
   "execution_count": null,
   "id": "210b03eb",
   "metadata": {},
   "outputs": [],
   "source": [
    "ANN"
   ]
  },
  {
   "cell_type": "code",
   "execution_count": null,
   "id": "a84ab980",
   "metadata": {},
   "outputs": [],
   "source": [
    "ST_AsText(ST_Union(geom_way))"
   ]
  },
  {
   "cell_type": "code",
   "execution_count": null,
   "id": "f0265775",
   "metadata": {},
   "outputs": [],
   "source": [
    "realcost(105.85062869999999, 21.00922750040452)"
   ]
  },
  {
   "cell_type": "code",
   "execution_count": null,
   "id": "556ccf17",
   "metadata": {},
   "outputs": [],
   "source": []
  },
  {
   "cell_type": "code",
   "execution_count": null,
   "id": "963b08ad",
   "metadata": {},
   "outputs": [],
   "source": [
    "euclidcost()"
   ]
  },
  {
   "cell_type": "code",
   "execution_count": null,
   "id": "69451e3c",
   "metadata": {},
   "outputs": [],
   "source": []
  },
  {
   "cell_type": "code",
   "execution_count": null,
   "id": "d1a2bb82",
   "metadata": {},
   "outputs": [],
   "source": [
    "# print(cursor.fetchone())"
   ]
  },
  {
   "cell_type": "code",
   "execution_count": null,
   "id": "ba766a9f",
   "metadata": {},
   "outputs": [],
   "source": [
    "# print(cursor.fetchall())"
   ]
  },
  {
   "cell_type": "code",
   "execution_count": null,
   "id": "41afc861",
   "metadata": {},
   "outputs": [],
   "source": [
    "# print(cursor.fetchmany(size=5))"
   ]
  },
  {
   "cell_type": "code",
   "execution_count": null,
   "id": "1197abdd",
   "metadata": {},
   "outputs": [],
   "source": [
    "# one = cursor.fetchone()\n",
    "# all = cursor.fetchall()"
   ]
  },
  {
   "cell_type": "code",
   "execution_count": null,
   "id": "6fcd87e8",
   "metadata": {},
   "outputs": [],
   "source": [
    "#print(db.fetchmany(size=50))"
   ]
  },
  {
   "cell_type": "code",
   "execution_count": null,
   "id": "2894704b",
   "metadata": {},
   "outputs": [],
   "source": [
    "# find destination source\n",
    "cur = conn.cursor()\n",
    "\n",
    "# Execute the tenNN query\n",
    "cur.execute(\"\"\"\n",
    "    WITH tenNN AS (\n",
    "        SELECT long, lat\n",
    "        FROM geometries\n",
    "        WHERE amenity = 'restaurant'\n",
    "        ORDER BY ST_Distance(\n",
    "            ST_Transform(ST_SetSRID(ST_MakePoint(long, lat), 4326), 3857),\n",
    "            ST_Transform(ST_SetSRID(ST_MakePoint(105.8452161, 21.00105440040437), 4326), 3857)\n",
    "        )\n",
    "        LIMIT 10\n",
    "    )\n",
    "    SELECT long, lat\n",
    "    FROM tenNN\n",
    "\"\"\")\n",
    "\n",
    "# Fetch all rows from the query result\n",
    "rows = cur.fetchall()\n",
    "destination=[];\n",
    "# Iterate over the rows and retrieve the corresponding source values\n",
    "for row in rows:\n",
    "    long, lat = row\n",
    "    # Execute the query to retrieve the source value\n",
    "    cur.execute(\"\"\"\n",
    "        SELECT topo.source\n",
    "        FROM osm_2po_4pgr AS topo\n",
    "        ORDER BY topo.geom_way <-> ST_SetSRID(ST_MakePoint(%s, %s), 4326)\n",
    "        LIMIT 1\n",
    "    \"\"\", (long, lat))   \n",
    "    source=cur.fetchone()[0]\n",
    "    # Fetch the source value\n",
    "    destination.append(source)\n",
    "\n",
    "    # Print the result\n",
    "    print(f\"long: {long}, lat: {lat}, source: {source}\")"
   ]
  },
  {
   "cell_type": "code",
   "execution_count": null,
   "id": "ef8eefda",
   "metadata": {},
   "outputs": [],
   "source": [
    "cur.close() \n",
    "conn.close()"
   ]
  },
  {
   "cell_type": "code",
   "execution_count": null,
   "id": "8d036ad3",
   "metadata": {},
   "outputs": [],
   "source": [
    "destination"
   ]
  },
  {
   "cell_type": "code",
   "execution_count": null,
   "id": "29ad4da6",
   "metadata": {},
   "outputs": [],
   "source": [
    "conn = psycopg2.connect(database=\"osm\",\n",
    "                        host=\"localhost\",\n",
    "                        user=\"postgres\",\n",
    "                        password=\"00000\",\n",
    "                        port=\"5432\")"
   ]
  },
  {
   "cell_type": "code",
   "execution_count": null,
   "id": "8fe83224",
   "metadata": {},
   "outputs": [],
   "source": [
    "cur = conn.cursor()\n",
    "cur.execute(\"\"\"SELECT source FROM osm_2po_4pgr\n",
    "                ORDER BY geom_way <-> ST_SetSRID(ST_MakePoint(105.83589009999999, 21.016768700404654), 4326)\n",
    "                LIMIT 1\"\"\")\n",
    "start=cur.fetchall()[0]"
   ]
  },
  {
   "cell_type": "code",
   "execution_count": null,
   "id": "6bdca1c7",
   "metadata": {},
   "outputs": [],
   "source": [
    "beginning=[]\n",
    "for x in start:\n",
    "    beginning.append(x)"
   ]
  },
  {
   "cell_type": "code",
   "execution_count": null,
   "id": "4cc7082d",
   "metadata": {},
   "outputs": [],
   "source": [
    "beginning"
   ]
  },
  {
   "cell_type": "code",
   "execution_count": null,
   "id": "1846a333",
   "metadata": {},
   "outputs": [],
   "source": [
    "cur.close() \n",
    "conn.close()"
   ]
  },
  {
   "cell_type": "code",
   "execution_count": null,
   "id": "44798257",
   "metadata": {},
   "outputs": [],
   "source": [
    "conn = psycopg2.connect(database=\"osm\",\n",
    "                        host=\"localhost\",\n",
    "                        user=\"postgres\",\n",
    "                        password=\"00000\",\n",
    "                        port=\"5432\")\n",
    "cur = conn.cursor()"
   ]
  },
  {
   "cell_type": "code",
   "execution_count": null,
   "id": "d54c2c19",
   "metadata": {},
   "outputs": [],
   "source": [
    "cur.execute(\"\"\"\n",
    "            SELECT ST_Union(geom_way), cost AS route\n",
    "            FROM pgr_dijkstra(\n",
    "              'SELECT id, source, target, ST_Length(ST_Transform(geom_way, 3857)) AS cost FROM osm_2po_4pgr',\n",
    "              1817247,\n",
    "              ARRAY(select source from destination), \n",
    "              directed := false\n",
    "            ) AS di\n",
    "            JOIN osm_2po_4pgr AS pt \n",
    "                ON di.edge = pt.id\n",
    "            ORDER BY cost\n",
    "            LIMIT 5\n",
    "        \"\"\")\n",
    "        \n",
    "        # Process the query result\n",
    "result = cur.fetchall()\n",
    "        # Do something with the result"
   ]
  },
  {
   "cell_type": "code",
   "execution_count": null,
   "id": "c6ec8fd1",
   "metadata": {},
   "outputs": [],
   "source": []
  },
  {
   "cell_type": "code",
   "execution_count": null,
   "id": "4d5f6b01",
   "metadata": {},
   "outputs": [],
   "source": []
  },
  {
   "cell_type": "code",
   "execution_count": null,
   "id": "1fdb1dae",
   "metadata": {},
   "outputs": [],
   "source": [
    "import psycopg2\n",
    "\n",
    "# Establish a connection to the database\n",
    "conn = psycopg2.connect(database=\"your_database\", user=\"your_user\", password=\"your_password\", host=\"your_host\", port=\"your_port\")\n",
    "cur = conn.cursor()\n",
    "\n",
    "# Retrieve the ATM and hospital points\n",
    "cur.execute(\"SELECT long, lat FROM geometries WHERE amenity = 'atm'\")\n",
    "atm_points = cur.fetchall()\n",
    "\n",
    "cur.execute(\"SELECT long, lat FROM geometries WHERE amenity = 'hospital'\")\n",
    "hospital_points = cur.fetchall()\n",
    "\n",
    "# Loop through each pair of ATM and hospital points\n",
    "for atm_point in atm_points:\n",
    "    for hospital_point in hospital_points:\n",
    "        atm_long, atm_lat = atm_point\n",
    "        hospital_long, hospital_lat = hospital_point\n",
    "\n",
    "        # Find the nearest restaurant point for the current pair\n",
    "        cur.execute(\"\"\"\n",
    "            WITH restaurant_distances AS (\n",
    "                SELECT\n",
    "                    long,\n",
    "                    lat,\n",
    "                    way,\n",
    "                    ST_Distance(ST_SetSRID(ST_MakePoint(%s, %s), 4326), ST_SetSRID(ST_MakePoint(long, lat), 4326)) AS distance\n",
    "                FROM\n",
    "                    geometries\n",
    "                WHERE\n",
    "                    amenity = 'restaurant'\n",
    "            )\n",
    "            SELECT\n",
    "                long AS restaurant_long,\n",
    "                lat AS restaurant_lat,\n",
    "                way AS restaurant_way\n",
    "            FROM\n",
    "                restaurant_distances\n",
    "            ORDER BY\n",
    "                distance\n",
    "            LIMIT 1\n",
    "        \"\"\", (atm_long, atm_lat))\n",
    "\n",
    "        nearest_restaurant = cur.fetchone()\n",
    "\n",
    "        # Print the results\n",
    "        print(\"ATM Point:\", atm_point)\n",
    "        print(\"Hospital Point:\", hospital_point)\n",
    "        print(\"Nearest Restaurant:\", nearest_restaurant)\n",
    "        print(\"----------------------------------\")\n",
    "\n",
    "# Close the database connection\n",
    "cur.close()\n",
    "conn.close()\n"
   ]
  }
 ],
 "metadata": {
  "kernelspec": {
   "display_name": "Python 3 (ipykernel)",
   "language": "python",
   "name": "python3"
  },
  "language_info": {
   "codemirror_mode": {
    "name": "ipython",
    "version": 3
   },
   "file_extension": ".py",
   "mimetype": "text/x-python",
   "name": "python",
   "nbconvert_exporter": "python",
   "pygments_lexer": "ipython3",
   "version": "3.9.12"
  }
 },
 "nbformat": 4,
 "nbformat_minor": 5
}
