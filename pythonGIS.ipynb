{
 "cells": [
  {
   "cell_type": "code",
   "execution_count": null,
   "id": "a5ebb1ad",
   "metadata": {},
   "outputs": [],
   "source": [
    "!pip install psycopg2-binary"
   ]
  },
  {
   "cell_type": "code",
   "execution_count": 12,
   "id": "9ebfa725",
   "metadata": {},
   "outputs": [],
   "source": [
    "import psycopg2"
   ]
  },
  {
   "cell_type": "code",
   "execution_count": 13,
   "id": "f5c33428",
   "metadata": {},
   "outputs": [],
   "source": [
    "conn = psycopg2.connect(database=\"osm\",\n",
    "                        host=\"localhost\",\n",
    "                        user=\"postgres\",\n",
    "                        password=\"00000\",\n",
    "                        port=\"5432\")"
   ]
  },
  {
   "cell_type": "code",
   "execution_count": 14,
   "id": "e2e65f8c",
   "metadata": {},
   "outputs": [],
   "source": [
    "db = conn.cursor()\n",
    "#query point : 105.8475554, 21.007130000404484\n",
    "#test point :105.85062869999999 21.00922750040452"
   ]
  },
  {
   "cell_type": "markdown",
   "id": "9bcc5b21",
   "metadata": {},
   "source": [
    "# IER"
   ]
  },
  {
   "cell_type": "code",
   "execution_count": 15,
   "id": "657200a5",
   "metadata": {},
   "outputs": [],
   "source": [
    "#ST_AsText(ST_Union(geom_way)) return multilineString\n",
    "def IED(long, lat):\n",
    "    path=[]\n",
    "    #find euclide NN\n",
    "    db.execute(f\"\"\"select long, lat FROM geometries\n",
    "                where amenity='restaurant'\n",
    "                order by ST_Distance(ST_Transform(ST_SetSRID(ST_MakePoint({long}, {lat}), 4326), 3857), \n",
    "                                ST_Transform(ST_SetSRID(ST_MakePoint(long, lat), 4326), 3857)) \n",
    "                limit 1\"\"\")\n",
    "    qPoint=db.fetchall()\n",
    "    #find network routing\n",
    "    #qPoint[0][0],qPoint[0][1]: longtitude and latitude of NN point \n",
    "    db.execute(f\"\"\"\n",
    "                WITH start AS (\n",
    "              SELECT topo.source \n",
    "              FROM osm_2po_4pgr as topo\n",
    "              ORDER BY topo.geom_way <-> ST_SetSRID(\n",
    "                ST_GeomFromText('POINT ({long} {lat})'),\n",
    "                      4326)\n",
    "                      LIMIT 1\n",
    "                    ),\n",
    "                destination AS (\n",
    "                  SELECT topo.source \n",
    "                  FROM osm_2po_4pgr as topo\n",
    "                  ORDER BY topo.geom_way <-> ST_SetSRID(\n",
    "                ST_GeomFromText('POINT ({qPoint[0][0]} {qPoint[0][1]})'),\n",
    "                      4326)\n",
    "                  LIMIT 1\n",
    "                    )\n",
    "                SELECT sum(di.cost) as realcost,ST_Union(geom_way) as path\n",
    "                    FROM pgr_dijkstra('\n",
    "                SELECT id,\n",
    "                     source,\n",
    "                     target,\n",
    "                     ST_Length(ST_Transform(geom_way, 3857)) AS cost\n",
    "                        FROM osm_2po_4pgr',\n",
    "                    array(SELECT source FROM start),\n",
    "                    array(SELECT source FROM destination),\n",
    "                    directed := false) AS di\n",
    "                    JOIN   osm_2po_4pgr AS pt\n",
    "                      ON   di.edge = pt.id\n",
    "                      \"\"\")\n",
    "    result=db.fetchall()\n",
    "    DEmax= result[0][0] #network routing distance from NN point to given point\n",
    "    path= result[0][1]\n",
    "    #find candidate in this network routing\n",
    "    \n",
    "    #DE max: network routing from given point to NN (NN by euclid)\n",
    "    db.execute(f\"\"\"select long, lat FROM geometries\n",
    "                where amenity='restaurant'\n",
    "                and ST_Distance(ST_Transform(ST_SetSRID(ST_MakePoint({long}, {lat}), 4326), 3857), \n",
    "                                ST_Transform(ST_SetSRID(ST_MakePoint(long, lat), 4326), 3857))<=  {DEmax}\n",
    "                \"\"\")\n",
    "    NN=db.fetchall()\n",
    "    #find result\n",
    "    for i in NN:\n",
    "        db.execute(f\"\"\"\n",
    "                WITH start AS (\n",
    "                      SELECT topo.source \n",
    "                      FROM osm_2po_4pgr as topo\n",
    "                      ORDER BY topo.geom_way <-> ST_SetSRID(\n",
    "                                ST_GeomFromText('POINT ({long} {lat})'),4326)\n",
    "                      LIMIT 1\n",
    "                                ),\n",
    "                    destination AS (\n",
    "                          SELECT topo.source \n",
    "                          FROM osm_2po_4pgr as topo\n",
    "                          ORDER BY topo.geom_way <-> ST_SetSRID(\n",
    "                            ST_GeomFromText('POINT ({i[0]} {i[1]})'),4326)\n",
    "                          LIMIT 1\n",
    "                                    )\n",
    "                SELECT (ST_Union(geom_way)), sum(di.cost) as realcost\n",
    "                    FROM pgr_dijkstra('\n",
    "                            SELECT id,\n",
    "                                   source,\n",
    "                                   target,\n",
    "                                    ST_Length(ST_Transform(geom_way, 3857)) AS cost\n",
    "                            FROM osm_2po_4pgr',\n",
    "                                    array(SELECT source FROM start),\n",
    "                                    array(SELECT source FROM destination),\n",
    "                                    directed := false) AS di\n",
    "                    JOIN   osm_2po_4pgr AS pt\n",
    "                    ON   di.edge = pt.id\n",
    "                      \"\"\")\n",
    "        x=db.fetchall()\n",
    "        if(x[0][1]>DEmax) : continue\n",
    "        else:\n",
    "            path=x[0][0]\n",
    "            DEmax =x[0][1]\n",
    "            qPoint=i\n",
    "    return qPoint, DEmax, path,NN"
   ]
  },
  {
   "cell_type": "code",
   "execution_count": 12,
   "id": "067b37f6",
   "metadata": {},
   "outputs": [
    {
     "data": {
      "text/plain": [
       "((105.8068682, 21.033045300404943),\n",
       " 471.871298337968,\n",
       " '0105000020E6100000050000000102000000100000003FE834666D735A40120A5BFD2208354045189A466E735A40A873452921083540380884E76F735A402CA688C21D08354017050B7176735A40759DFCCC0F08354039A407F478735A403B2F5FA80D083540BC3A6CC779735A409BB3999E0B0835402672C1197C735A4090DD054A0A083540D29B40C77D735A403B7716180D0835403C1B4D897F735A4043C5387F1308354059CFFF6181735A40FFBDCA9019083540B78CE5A782735A409E0546031D0835400A5A924D83735A401B272AC01C08354026080DB386735A40C2572A5E1B083540F60A0BEE87735A40B1EC38341B083540B3F803D48A735A40E62D0DB21B0835406F675F7990735A40ED4D67823C0835400102000000020000006F675F7990735A40ED4D67823C08354008D8FD1994735A4043BB54B65908354001020000000400000008D8FD1994735A4043BB54B6590835408421BC8795735A40B052E68B62083540F4EAD27597735A401C29B6DD5F083540FA9001EA97735A40F832F6CA61083540010200000002000000FA9001EA97735A40F832F6CA610835404C135BE699735A40D7F6764B720835400102000000030000004C135BE699735A40D7F6764B720835403F17B25F9C735A40D8AC44EA87083540D449B6BA9C735A400C2A60F18A083540',\n",
       " [(105.8101527, 21.027222400404835),\n",
       "  (105.806208, 21.02851110040486),\n",
       "  (105.80846779999999, 21.029305300404875),\n",
       "  (105.8074289, 21.029202900404872),\n",
       "  (105.80698279999999, 21.029116900404865),\n",
       "  (105.80666819999999, 21.02911480040487),\n",
       "  (105.807566, 21.033526100404945),\n",
       "  (105.8068682, 21.033045300404943),\n",
       "  (105.8094432, 21.03258420040493),\n",
       "  (105.8092811, 21.029439000404874),\n",
       "  (105.8102219, 21.02968230040488),\n",
       "  (105.810586, 21.02974600040488),\n",
       "  (105.8090898, 21.029416600404875),\n",
       "  (105.8090094, 21.029402500404874),\n",
       "  (105.81011649999999, 21.028106000404854)])"
      ]
     },
     "execution_count": 12,
     "metadata": {},
     "output_type": "execute_result"
    }
   ],
   "source": [
    "IED(105.8042238, 21.030628300404896)"
   ]
  },
  {
   "cell_type": "code",
   "execution_count": 38,
   "id": "d2a63730",
   "metadata": {
    "scrolled": true
   },
   "outputs": [
    {
     "name": "stdout",
     "output_type": "stream",
     "text": [
      "Elapsed time: 303.0264481999993 seconds\n"
     ]
    }
   ],
   "source": [
    "import timeit\n",
    "#index\n",
    "elapsed_time = timeit.timeit(\"IED(105.8042238, 21.030628300404896)\", globals=globals(), number=1)\n",
    "print(f\"Elapsed time: {elapsed_time} seconds\")"
   ]
  },
  {
   "cell_type": "code",
   "execution_count": 16,
   "id": "af55b0ed",
   "metadata": {},
   "outputs": [
    {
     "name": "stdout",
     "output_type": "stream",
     "text": [
      "Elapsed time: 404.2515760000001 seconds\n"
     ]
    }
   ],
   "source": [
    "#non index\n",
    "elapsed_time = timeit.timeit(\"IED(105.8042238, 21.030628300404896)\", globals=globals(), number=1)\n",
    "print(f\"Elapsed time: {elapsed_time} seconds\")"
   ]
  },
  {
   "cell_type": "markdown",
   "id": "01e04a89",
   "metadata": {},
   "source": [
    "# NN to 2 given point"
   ]
  },
  {
   "cell_type": "markdown",
   "id": "d6c64c52",
   "metadata": {},
   "source": [
    "## method 1 candidat by IER"
   ]
  },
  {
   "cell_type": "code",
   "execution_count": 23,
   "id": "0c5757d4",
   "metadata": {},
   "outputs": [],
   "source": [
    "# find NN by IER\n",
    "def IER(long, lat):\n",
    "    path=[]\n",
    "    #find euclide NN\n",
    "    db.execute(f\"\"\"select long, lat FROM geometries\n",
    "                where amenity='restaurant'\n",
    "                order by ST_Distance(ST_Transform(ST_SetSRID(ST_MakePoint({long}, {lat}), 4326), 3857), \n",
    "                                ST_Transform(ST_SetSRID(ST_MakePoint(long, lat), 4326), 3857)) \n",
    "                                \n",
    "                limit 1\"\"\")\n",
    "    qPoint=db.fetchall()\n",
    "    #find network routing\n",
    "    db.execute(f\"\"\"\n",
    "                WITH start AS (\n",
    "              SELECT topo.source \n",
    "              FROM osm_2po_4pgr as topo\n",
    "              ORDER BY topo.geom_way <-> ST_SetSRID(\n",
    "                ST_GeomFromText('POINT ({long} {lat})'),\n",
    "                      4326)\n",
    "                      LIMIT 1\n",
    "                    ),\n",
    "                destination AS (\n",
    "                  SELECT topo.source \n",
    "                  FROM osm_2po_4pgr as topo\n",
    "                  ORDER BY topo.geom_way <-> ST_SetSRID(\n",
    "                ST_GeomFromText('POINT ({qPoint[0][0]} {qPoint[0][1]})'),\n",
    "                      4326)\n",
    "                  LIMIT 1\n",
    "                    )\n",
    "                SELECT sum(di.cost) as realcost,ST_Union(geom_way) as path\n",
    "                    FROM pgr_dijkstra('\n",
    "                SELECT id,\n",
    "                     source,\n",
    "                     target,\n",
    "                     ST_Length(ST_Transform(geom_way, 3857)) AS cost\n",
    "                        FROM osm_2po_4pgr',\n",
    "                    array(SELECT source FROM start),\n",
    "                    array(SELECT source FROM destination),\n",
    "                    directed := false) AS di\n",
    "                    JOIN   osm_2po_4pgr AS pt\n",
    "                      ON   di.edge = pt.id\n",
    "                      \"\"\")\n",
    "    result=db.fetchall()\n",
    "    DEmax= result[0][0]\n",
    "    path= result[0][1]\n",
    "    #find candidate in this network routing\n",
    "    db.execute(f\"\"\"select long, lat FROM geometries\n",
    "                where amenity='restaurant'\n",
    "                and ST_Distance(ST_Transform(ST_SetSRID(ST_MakePoint({long}, {lat}), 4326), 3857), \n",
    "                                ST_Transform(ST_SetSRID(ST_MakePoint(long, lat), 4326), 3857))<=  {DEmax}\n",
    "                \"\"\")\n",
    "    NN=db.fetchall()\n",
    "    #find result\n",
    "    for i in NN:\n",
    "        db.execute(f\"\"\"\n",
    "                WITH start AS (\n",
    "                      SELECT topo.source \n",
    "                      FROM osm_2po_4pgr as topo\n",
    "                      ORDER BY topo.geom_way <-> ST_SetSRID(\n",
    "                                ST_GeomFromText('POINT ({long} {lat})'),4326)\n",
    "                      LIMIT 1\n",
    "                                ),\n",
    "                    destination AS (\n",
    "                          SELECT topo.source \n",
    "                          FROM osm_2po_4pgr as topo\n",
    "                          ORDER BY topo.geom_way <-> ST_SetSRID(\n",
    "                            ST_GeomFromText('POINT ({i[0]} {i[1]})'),4326)\n",
    "                          LIMIT 1\n",
    "                                    )\n",
    "                SELECT (ST_Union(geom_way)), sum(di.cost) as realcost\n",
    "                    FROM pgr_dijkstra('\n",
    "                            SELECT id,\n",
    "                                   source,\n",
    "                                   target,\n",
    "                                    ST_Length(ST_Transform(geom_way, 3857)) AS cost\n",
    "                            FROM osm_2po_4pgr',\n",
    "                                    array(SELECT source FROM start),\n",
    "                                    array(SELECT source FROM destination),\n",
    "                                    directed := false) AS di\n",
    "                    JOIN   osm_2po_4pgr AS pt\n",
    "                    ON   di.edge = pt.id\n",
    "                      \"\"\")\n",
    "        x=db.fetchall()\n",
    "        if(x[0][1]>DEmax) : continue\n",
    "        else:\n",
    "            path=x[0][0]\n",
    "            DEmax =x[0][1]\n",
    "            qPoint=i\n",
    "    return qPoint, DEmax, path,NN"
   ]
  },
  {
   "cell_type": "code",
   "execution_count": 34,
   "id": "1918f806",
   "metadata": {},
   "outputs": [],
   "source": [
    "#POINT1(105.80145149999998 21.035779800404985)\n",
    "#POINT2(105.78767219999999 21.036938200405007)"
   ]
  },
  {
   "cell_type": "code",
   "execution_count": 35,
   "id": "1dea1975",
   "metadata": {},
   "outputs": [
    {
     "data": {
      "text/plain": [
       "((105.8000055, 21.03867230040504),\n",
       " 606.024513451644,\n",
       " '0105000020E61000000A000000010200000002000000A6D590B847735A40D7E2AEB9FE0835403A7BC26D48735A403C6068BFFF083540010200000002000000AD4214DD44735A4021730A97FA083540A6D590B847735A40D7E2AEB9FE083540010200000002000000DE42B2DB42735A400466CFAFF7083540AD4214DD44735A4021730A97FA083540010200000003000000DE42B2DB42735A400466CFAFF7083540F673AF3841735A40C6E5D3BE14093540F1434A5840735A4091FEA89729093540010200000002000000C029070E43735A403EC10F1835093540F1434A5840735A4091FEA89729093540010200000004000000C679EEF34E735A409D514E0F65093540167431BC48735A40F14927124C093540ED56E07547735A40D057DAF346093540C029070E43735A403EC10F1835093540010200000003000000A7CA9CD351735A408AE365F272093540C52BFF1051735A40383932456F093540C679EEF34E735A409D514E0F650935400102000000020000004D37E4FA52735A4075A84B6B78093540A7CA9CD351735A408AE365F2720935400102000000030000004D37E4FA52735A4075A84B6B780935409B4D918D51735A4043E4F4F57C09354032BA72AC41735A404DB21F73AF09354001020000000200000032BA72AC41735A404DB21F73AF093540C21B2D6233735A4012B81A7EDC093540',\n",
       " [(105.8000055, 21.03867230040504), (105.79872529999999, 21.04008510040506)])"
      ]
     },
     "execution_count": 35,
     "metadata": {},
     "output_type": "execute_result"
    }
   ],
   "source": [
    "IER(105.80145149999998, 21.035779800404985)\n",
    "##NN1="
   ]
  },
  {
   "cell_type": "code",
   "execution_count": 36,
   "id": "8a295a99",
   "metadata": {},
   "outputs": [
    {
     "data": {
      "text/plain": [
       "((105.78914509999998, 21.035509500404984),\n",
       " 276.80359196156576,\n",
       " '0105000020E610000004000000010200000002000000434EA95C72725A409D34684359093540F4E967A068725A4001C68E215B0935400102000000050000000770C4A489725A4088F0D4C853093540C7BAB88D86725A40527BB6B354093540C8050C3785725A40ABDA24F5540935403E1350977B725A40DF9FF76B57093540434EA95C72725A409D346843590935400102000000020000000770C4A489725A4088F0D4C85309354079628CFE86725A40A90DF38A4C09354001020000000300000079628CFE86725A40A90DF38A4C093540329FBD4486725A40D584A39A4809354098C68A7585725A407517CD6F3D093540',\n",
       " [(105.78914509999998, 21.035509500404984)])"
      ]
     },
     "execution_count": 36,
     "metadata": {},
     "output_type": "execute_result"
    }
   ],
   "source": [
    "IER(105.78767219999999, 21.036938200405007)\n",
    "#NN2="
   ]
  },
  {
   "cell_type": "code",
   "execution_count": 24,
   "id": "98f99f74",
   "metadata": {},
   "outputs": [],
   "source": [
    "#calculating the cost by network routing from NN point(follow by IER) to 2 given point\n",
    "def cost2point(long, lat, long1, lat1, long2, lat2):\n",
    "    db.execute(f\"\"\"\n",
    "                WITH start1 AS (\n",
    "              SELECT topo.source \n",
    "              FROM osm_2po_4pgr as topo\n",
    "              ORDER BY topo.geom_way <-> ST_SetSRID(\n",
    "                ST_GeomFromText('POINT ({long1} {lat1})'),\n",
    "                      4326)\n",
    "                      LIMIT 1\n",
    "                    ),\n",
    "                start2 AS (\n",
    "                  SELECT topo.source \n",
    "                  FROM osm_2po_4pgr as topo\n",
    "                  ORDER BY topo.geom_way <-> ST_SetSRID(\n",
    "                ST_GeomFromText('POINT ({long2} {lat2})'),\n",
    "                      4326)\n",
    "                  LIMIT 1\n",
    "                    ),\n",
    "                    destination AS (\n",
    "                  SELECT topo.source \n",
    "                  FROM osm_2po_4pgr as topo\n",
    "                  ORDER BY topo.geom_way <-> ST_SetSRID(\n",
    "                ST_GeomFromText('POINT ({long} {lat})'),\n",
    "                      4326)\n",
    "                  LIMIT 1\n",
    "                    )   \n",
    "                SELECT sum(di.cost) as realcost,ST_Union(geom_way) as path\n",
    "                    FROM pgr_dijkstra('\n",
    "                SELECT id,\n",
    "                     source,\n",
    "                     target,\n",
    "                     ST_Length(ST_Transform(geom_way, 3857)) AS cost\n",
    "                        FROM osm_2po_4pgr',\n",
    "                    array(SELECT source FROM start1 UNION SELECT source from start2),\n",
    "                    array(SELECT source FROM destination),\n",
    "                    directed := false) AS di\n",
    "                    JOIN   osm_2po_4pgr AS pt\n",
    "                      ON   di.edge = pt.id\n",
    "                      \"\"\")\n",
    "    result=db.fetchall()\n",
    "    cost= result[0][0]\n",
    "    return cost"
   ]
  },
  {
   "cell_type": "code",
   "execution_count": 40,
   "id": "8ee893af",
   "metadata": {},
   "outputs": [
    {
     "data": {
      "text/plain": [
       "2262.4613884916093"
      ]
     },
     "execution_count": 40,
     "metadata": {},
     "output_type": "execute_result"
    }
   ],
   "source": [
    "cost2point(105.8000055, 21.03867230040504,105.80145149999998 ,21.035779800404985,105.78767219999999, 21.036938200405007)\n",
    "#sum cost of NN1"
   ]
  },
  {
   "cell_type": "code",
   "execution_count": 42,
   "id": "f1b6dc25",
   "metadata": {},
   "outputs": [
    {
     "data": {
      "text/plain": [
       "1813.2061564787077"
      ]
     },
     "execution_count": 42,
     "metadata": {},
     "output_type": "execute_result"
    }
   ],
   "source": [
    "cost2point(105.78914509999998, 21.035509500404984,105.80145149999998, 21.035779800404985,105.78767219999999, 21.036938200405007)\n",
    "#sum_cost NN2"
   ]
  },
  {
   "cell_type": "code",
   "execution_count": 43,
   "id": "40013d31",
   "metadata": {},
   "outputs": [],
   "source": [
    "#cost by NN1 is smaller, then => query point from point2 with euclide = NN1, 105.84089229999998, 20.995627400404274"
   ]
  },
  {
   "cell_type": "code",
   "execution_count": 25,
   "id": "123d7e57",
   "metadata": {},
   "outputs": [],
   "source": [
    "from functools import reduce"
   ]
  },
  {
   "cell_type": "code",
   "execution_count": 28,
   "id": "2a85adcd",
   "metadata": {},
   "outputs": [],
   "source": [
    "#finding all candidate which is within smaller network routing distance\n",
    "\n",
    "def candidate(long1,lat1,long2,lat2,max1):\n",
    "    waste=0\n",
    "    path=1\n",
    "    result=1\n",
    "    end=[]\n",
    "    db.execute(f\"\"\"\n",
    "    select long, lat FROM geometries\n",
    "                where amenity='restaurant'\n",
    "                AND  ST_Distance(ST_Transform(ST_SetSRID(ST_MakePoint({long2}, {lat2}), 4326), 3857), \n",
    "                                ST_Transform(ST_SetSRID(ST_MakePoint(long, lat), 4326), 3857)) <=  {max1}\n",
    "                                \n",
    "                \"\"\")\n",
    "    qPoint1=db.fetchall()\n",
    "    db.execute(f\"\"\"\n",
    "    select long, lat FROM geometries\n",
    "                where amenity='restaurant'\n",
    "                AND  ST_Distance(ST_Transform(ST_SetSRID(ST_MakePoint({long1}, {lat1}), 4326), 3857), \n",
    "                                ST_Transform(ST_SetSRID(ST_MakePoint(long, lat), 4326), 3857)) <=  {max1}\n",
    "                                \n",
    "                \"\"\")\n",
    "    qPoint2=db.fetchall()\n",
    "    intersection = reduce(lambda acc, x: acc + [x] if x in qPoint1 and x not in acc else acc, qPoint2, [])\n",
    "    union = set(qPoint1).union(qPoint2)\n",
    "\n",
    "    #find network routing\n",
    "    for i in intersection:\n",
    "        db.execute(f\"\"\"\n",
    "                WITH start1 AS (\n",
    "                      SELECT topo.source \n",
    "                      FROM osm_2po_4pgr as topo\n",
    "                      ORDER BY topo.geom_way <-> ST_SetSRID(\n",
    "                                ST_GeomFromText('POINT ({long1} {lat1})'),4326)\n",
    "                      LIMIT 1\n",
    "                                ),\n",
    "                    start2 AS (\n",
    "                      SELECT topo.source \n",
    "                      FROM osm_2po_4pgr as topo\n",
    "                      ORDER BY topo.geom_way <-> ST_SetSRID(\n",
    "                                ST_GeomFromText('POINT ({long2} {lat2})'),4326)\n",
    "                      LIMIT 1\n",
    "                                ),\n",
    "                    destination AS (\n",
    "                          SELECT topo.source \n",
    "                          FROM osm_2po_4pgr as topo\n",
    "                          ORDER BY topo.geom_way <-> ST_SetSRID(\n",
    "                            ST_GeomFromText('POINT ({i[0]} {i[1]})'),4326)\n",
    "                          LIMIT 1\n",
    "                                    )\n",
    "                SELECT {i} as point ,(ST_Union(geom_way)), sum(di.cost) as realcost\n",
    "                    FROM pgr_dijkstra('\n",
    "                            SELECT id,\n",
    "                                   source,\n",
    "                                   target,\n",
    "                                    ST_Length(ST_Transform(geom_way, 3857)) AS cost\n",
    "                            FROM osm_2po_4pgr',\n",
    "                                    array(SELECT source FROM start1 UNION SELECT source FROM start2),\n",
    "                                    array(SELECT source FROM destination),\n",
    "                                    directed := false) AS di\n",
    "                    JOIN   osm_2po_4pgr AS pt\n",
    "                    ON   di.edge = pt.id\n",
    "                      \"\"\")\n",
    "        x=db.fetchall()\n",
    "        end.append(x)\n",
    "    sorted_x= sorted(end, key=lambda x: x[0][-1])\n",
    "    return sorted_x[0] #result point, path, cost\n",
    "        \n",
    "#         #end.append(x[0][1])\n",
    "#         if(x[0][1]>max1) : continue\n",
    "#         else:\n",
    "#             path=x[0][0]\n",
    "#             waste =x[0][1]\n",
    "#             result=i\n",
    "#     return result, waste, path\n",
    "\n",
    "    #return end"
   ]
  },
  {
   "cell_type": "markdown",
   "id": "0ecb75d4",
   "metadata": {},
   "source": [
    "#### My function"
   ]
  },
  {
   "cell_type": "code",
   "execution_count": 29,
   "id": "b7cb7e5f",
   "metadata": {},
   "outputs": [],
   "source": [
    "def path2point(long1, lat1, long2,lat2):\n",
    "    NN1=IER(long1,lat1)\n",
    "    NN2=IER(long2,lat2)\n",
    "    x1=cost2point(NN1[0][0],NN1[0][1],long1, lat1, long2,lat2)\n",
    "    x2=cost2point(NN2[0][0],NN2[0][1],long1, lat1, long2,lat2)\n",
    "    if x1>=x2:\n",
    "        result=candidate(long1, lat1, long2,lat2,x2)\n",
    "    else: result=candidate(long1, lat1, long2,lat2,x1)\n",
    "    return result"
   ]
  },
  {
   "cell_type": "code",
   "execution_count": 62,
   "id": "46c8538c",
   "metadata": {},
   "outputs": [
    {
     "data": {
      "text/plain": [
       "[('(105.79514919999998,21.03487360040497)',\n",
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n",
       "  1709.078164072508)]"
      ]
     },
     "execution_count": 62,
     "metadata": {},
     "output_type": "execute_result"
    }
   ],
   "source": [
    "path2point(105.80145149999998 ,21.035779800404985,105.78767219999999, 21.036938200405007)"
   ]
  },
  {
   "cell_type": "code",
   "execution_count": 39,
   "id": "c8dcdd89",
   "metadata": {},
   "outputs": [
    {
     "name": "stdout",
     "output_type": "stream",
     "text": [
      "Elapsed time: 765.8553222 seconds\n"
     ]
    }
   ],
   "source": [
    "#index\n",
    "elapsed_time = timeit.timeit(\"path2point(105.80145149999998 ,21.035779800404985,105.78767219999999, 21.036938200405007)\", globals=globals(), number=1)\n",
    "print(f\"Elapsed time: {elapsed_time} seconds\")"
   ]
  },
  {
   "cell_type": "code",
   "execution_count": 30,
   "id": "9568632d",
   "metadata": {},
   "outputs": [
    {
     "name": "stdout",
     "output_type": "stream",
     "text": [
      "Elapsed time: 1275.3872347000001 seconds\n"
     ]
    }
   ],
   "source": [
    "#non index\n",
    "elapsed_time = timeit.timeit(\"path2point(105.80145149999998 ,21.035779800404985,105.78767219999999, 21.036938200405007)\", globals=globals(), number=1)\n",
    "print(f\"Elapsed time: {elapsed_time} seconds\")"
   ]
  },
  {
   "cell_type": "markdown",
   "id": "fa1ec2c8",
   "metadata": {},
   "source": [
    "## method 2:candidat by euclide"
   ]
  },
  {
   "cell_type": "code",
   "execution_count": null,
   "id": "8dfb9a00",
   "metadata": {},
   "outputs": [],
   "source": [
    "from functools import reduce"
   ]
  },
  {
   "cell_type": "code",
   "execution_count": 31,
   "id": "d0ebb637",
   "metadata": {},
   "outputs": [],
   "source": [
    "#AND ST_Within(way, (SELECT way FROM planet_osm_polygon p WHERE p.osm_id ='-9421134'))\n",
    "\n",
    "def euclid(long,lat):\n",
    "    db.execute(f\"\"\"select long, lat,\n",
    "    ST_Distance(ST_Transform(ST_SetSRID(ST_MakePoint({long}, {lat}), 4326), 3857), \n",
    "                                ST_Transform(ST_SetSRID(ST_MakePoint(long, lat), 4326), 3857)) \n",
    "    FROM geometries\n",
    "                where amenity='restaurant'\n",
    "                order by ST_Distance(ST_Transform(ST_SetSRID(ST_MakePoint({long}, {lat}), 4326), 3857), \n",
    "                                ST_Transform(ST_SetSRID(ST_MakePoint(long, lat), 4326), 3857)) \n",
    "                                \n",
    "                limit 1\"\"\")\n",
    "    NN=db.fetchall()\n",
    "    return NN"
   ]
  },
  {
   "cell_type": "code",
   "execution_count": 14,
   "id": "c89d7bb8",
   "metadata": {},
   "outputs": [
    {
     "data": {
      "text/plain": [
       "[(105.8000055, 21.03867230040504, 380.69136656644343)]"
      ]
     },
     "execution_count": 14,
     "metadata": {},
     "output_type": "execute_result"
    }
   ],
   "source": [
    "#POINT1(105.80145149999998 21.035779800404985)\n",
    "x1=euclid(105.80145149999998, 21.035779800404985) #given point 1\n",
    "x1 #NN của point1"
   ]
  },
  {
   "cell_type": "code",
   "execution_count": 15,
   "id": "a8a4e775",
   "metadata": {},
   "outputs": [
    {
     "data": {
      "text/plain": [
       "[(105.78914509999998, 21.035509500404984, 236.47278118702116)]"
      ]
     },
     "execution_count": 15,
     "metadata": {},
     "output_type": "execute_result"
    }
   ],
   "source": [
    "#POINT2(105.78767219999999 21.036938200405007)\n",
    "x2=euclid(105.78767219999999, 21.036938200405007) #given point 2\n",
    "x2 #NN của point2"
   ]
  },
  {
   "cell_type": "code",
   "execution_count": 32,
   "id": "70b1d3f5",
   "metadata": {},
   "outputs": [],
   "source": [
    "#AND ST_Within(way, (SELECT way FROM planet_osm_polygon p WHERE p.osm_id ='-9421134'))\n",
    "def find_NN(long,lat,max1):   \n",
    "    db.execute(f\"\"\"\n",
    "    select long, lat FROM geometries\n",
    "                where amenity='restaurant'\n",
    "                AND  ST_Distance(ST_Transform(ST_SetSRID(ST_MakePoint({long}, {lat}), 4326), 3857), \n",
    "                                ST_Transform(ST_SetSRID(ST_MakePoint(long, lat), 4326), 3857)) <=  {max1}\n",
    "                                \n",
    "                \"\"\")\n",
    "    Point=db.fetchall()\n",
    "    return Point"
   ]
  },
  {
   "cell_type": "code",
   "execution_count": 19,
   "id": "4a671360",
   "metadata": {},
   "outputs": [
    {
     "data": {
      "text/plain": [
       "[(105.8000055, 21.03867230040504)]"
      ]
     },
     "execution_count": 19,
     "metadata": {},
     "output_type": "execute_result"
    }
   ],
   "source": [
    "NN1=find_NN(105.80145149999998, 21.035779800404985,x1[0][2])  #x1[0][2] = max1\n",
    "NN1"
   ]
  },
  {
   "cell_type": "code",
   "execution_count": 21,
   "id": "a8cee2ab",
   "metadata": {},
   "outputs": [
    {
     "data": {
      "text/plain": [
       "[(105.7857867, 21.038758100405033),\n",
       " (105.7855911, 21.03890420040504),\n",
       " (105.78562479999998, 21.03890360040504),\n",
       " (105.78545609999999, 21.038906700405043),\n",
       " (105.78548989999999, 21.03890600040504),\n",
       " (105.7855236, 21.03890550040504),\n",
       " (105.7854859, 21.038763600405037),\n",
       " (105.7889278, 21.034573200404967),\n",
       " (105.78894929999998, 21.034648300404964),\n",
       " (105.78900139999999, 21.034937500404972),\n",
       " (105.78914509999998, 21.035509500404984),\n",
       " (105.78967349999999, 21.034375400404958),\n",
       " (105.7893302, 21.034508100404963)]"
      ]
     },
     "execution_count": 21,
     "metadata": {},
     "output_type": "execute_result"
    }
   ],
   "source": [
    "NN2=find_NN(105.78767219999999, 21.036938200405007,x1[0][2])\n",
    "NN2"
   ]
  },
  {
   "cell_type": "code",
   "execution_count": 22,
   "id": "0dec237f",
   "metadata": {},
   "outputs": [
    {
     "data": {
      "text/plain": [
       "[]"
      ]
     },
     "execution_count": 22,
     "metadata": {},
     "output_type": "execute_result"
    }
   ],
   "source": [
    "intersection = reduce(lambda acc, x: acc + [x] if x in NN1 and x not in acc else acc, NN2, [])\n",
    "intersection"
   ]
  },
  {
   "cell_type": "code",
   "execution_count": 23,
   "id": "62e58530",
   "metadata": {},
   "outputs": [
    {
     "data": {
      "text/plain": [
       "{(105.78545609999999, 21.038906700405043),\n",
       " (105.7854859, 21.038763600405037),\n",
       " (105.78548989999999, 21.03890600040504),\n",
       " (105.7855236, 21.03890550040504),\n",
       " (105.7855911, 21.03890420040504),\n",
       " (105.78562479999998, 21.03890360040504),\n",
       " (105.7857867, 21.038758100405033),\n",
       " (105.7889278, 21.034573200404967),\n",
       " (105.78894929999998, 21.034648300404964),\n",
       " (105.78900139999999, 21.034937500404972),\n",
       " (105.78914509999998, 21.035509500404984),\n",
       " (105.7893302, 21.034508100404963),\n",
       " (105.78967349999999, 21.034375400404958),\n",
       " (105.8000055, 21.03867230040504)}"
      ]
     },
     "execution_count": 23,
     "metadata": {},
     "output_type": "execute_result"
    }
   ],
   "source": [
    "union=set(NN1).union(NN2)\n",
    "union"
   ]
  },
  {
   "cell_type": "code",
   "execution_count": 20,
   "id": "07a4c92b",
   "metadata": {},
   "outputs": [],
   "source": [
    "long1=105.8367243\n",
    "lat1= 20.991411700404193\n",
    "long2=105.8502594\n",
    "lat2=20.997397700404303\n",
    "result=[]\n",
    "db.execute(f\"\"\"\n",
    "                WITH start1 AS (\n",
    "                      SELECT topo.source \n",
    "                      FROM osm_2po_4pgr as topo\n",
    "                      ORDER BY topo.geom_way <-> ST_SetSRID(\n",
    "                                ST_GeomFromText('POINT ({long1} {lat1})'),4326)\n",
    "                      LIMIT 1\n",
    "                                ),\n",
    "                    start2 AS (\n",
    "                      SELECT topo.source \n",
    "                      FROM osm_2po_4pgr as topo\n",
    "                      ORDER BY topo.geom_way <-> ST_SetSRID(\n",
    "                                ST_GeomFromText('POINT ({long2} {lat2})'),4326)\n",
    "                      LIMIT 1\n",
    "                                ),\n",
    "                    destination AS (\n",
    "                          SELECT topo.source \n",
    "                          FROM osm_2po_4pgr as topo\n",
    "                          ORDER BY topo.geom_way <-> ST_SetSRID(\n",
    "                            ST_GeomFromText('POINT ({intersection[0][0]} {intersection[0][1]})'),4326)\n",
    "                          LIMIT 1\n",
    "                                    )\n",
    "                SELECT (ST_Union(geom_way)), sum(di.cost) as realcost\n",
    "                    FROM pgr_dijkstra('\n",
    "                            SELECT id,\n",
    "                                   source,\n",
    "                                   target,\n",
    "                                    ST_Length(ST_Transform(geom_way, 3857)) AS cost\n",
    "                            FROM osm_2po_4pgr',\n",
    "                                    array(SELECT source FROM start1 UNION SELECT source FROM start2),\n",
    "                                    array(SELECT source FROM destination),\n",
    "                                    directed := false) AS di\n",
    "                    JOIN   osm_2po_4pgr AS pt\n",
    "                    ON   di.edge = pt.id\n",
    "                      \"\"\")\n",
    "x=db.fetchall()\n",
    "if(x[0][-1] is not None):       \n",
    "    result.append(x)\n",
    "            \n",
    "ending_result= sorted(result, key=lambda x: x[0][-1])[0]"
   ]
  },
  {
   "cell_type": "code",
   "execution_count": 58,
   "id": "24d07970",
   "metadata": {},
   "outputs": [
    {
     "name": "stdout",
     "output_type": "stream",
     "text": [
      "(105.85063121852589, 20.999756697279977) 105.85063121852589 20.999756697279977\n",
      "(105.84333377184484, 21.002040406245815) 105.84333377184484 21.002040406245815\n",
      "(105.84408432517345, 20.997963931988973) 105.84408432517345 20.997963931988973\n",
      "(105.84415592757635, 20.99778753353857) 105.84415592757635 20.99778753353857\n"
     ]
    }
   ],
   "source": [
    "a=set(NN1).union(NN2)\n",
    "for i in a:\n",
    "    print(i, i[0],i[1])"
   ]
  },
  {
   "cell_type": "code",
   "execution_count": 43,
   "id": "6c99bd3f",
   "metadata": {},
   "outputs": [],
   "source": [
    "conn = psycopg2.connect(database=\"osm\",\n",
    "                        host=\"localhost\",\n",
    "                        user=\"postgres\",\n",
    "                        password=\"00000\",\n",
    "                        port=\"5432\")\n",
    "db = conn.cursor()"
   ]
  },
  {
   "cell_type": "code",
   "execution_count": 33,
   "id": "4c33720a",
   "metadata": {},
   "outputs": [],
   "source": [
    "#find best result in candidate set\n",
    "def problem9(long1, lat1, long2, lat2):\n",
    "    x1= euclid(long1,lat1)\n",
    "    x2= euclid(long2, lat2)\n",
    "    result=[]\n",
    "    if x1[0][2] > x2[0][2]:\n",
    "        max_e=x1[0][2]\n",
    "    else:\n",
    "        max_e=x2[0][2]\n",
    "    NN1= find_NN(long1,lat1, max_e)\n",
    "    NN2= find_NN(long2, lat2,max_e)\n",
    "    intersection = reduce(lambda acc, x: acc + [x] if x in NN1 and x not in acc else acc, NN2, [])\n",
    "    union = set(NN1).union(NN2)\n",
    "    result=[]\n",
    "    for i in union: # or intersection\n",
    "        db.execute(f\"\"\"\n",
    "                WITH start1 AS (\n",
    "                      SELECT topo.source \n",
    "                      FROM osm_2po_4pgr as topo\n",
    "                      ORDER BY topo.geom_way <-> ST_SetSRID(\n",
    "                                ST_GeomFromText('POINT ({long1} {lat1})'),4326)\n",
    "                      LIMIT 1\n",
    "                                ),\n",
    "                    start2 AS (\n",
    "                      SELECT topo.source \n",
    "                      FROM osm_2po_4pgr as topo\n",
    "                      ORDER BY topo.geom_way <-> ST_SetSRID(\n",
    "                                ST_GeomFromText('POINT ({long2} {lat2})'),4326)\n",
    "                      LIMIT 1\n",
    "                                ),\n",
    "                    destination AS (\n",
    "                          SELECT topo.source \n",
    "                          FROM osm_2po_4pgr as topo\n",
    "                          ORDER BY topo.geom_way <-> ST_SetSRID(\n",
    "                            ST_GeomFromText('POINT ({i[0]} {i[1]})'),4326)\n",
    "                          LIMIT 1\n",
    "                                    )\n",
    "                SELECT  {i} as point,(ST_Union(geom_way)), sum(di.cost) as realcost\n",
    "                    FROM pgr_dijkstra('\n",
    "                            SELECT id,\n",
    "                                   source,\n",
    "                                   target,\n",
    "                                    ST_Length(ST_Transform(geom_way, 3857)) AS cost\n",
    "                            FROM osm_2po_4pgr',\n",
    "                                    array(SELECT source FROM destination),\n",
    "                                    array(SELECT source FROM start1 UNION SELECT source FROM start2),\n",
    "                                    directed := false) AS di\n",
    "                    JOIN   osm_2po_4pgr AS pt\n",
    "                    ON   di.edge = pt.id\n",
    "                      \"\"\")\n",
    "        x=db.fetchall()\n",
    "        if(x[0][-1] is not None):       \n",
    "            result.append(x)\n",
    "            \n",
    "    sorted_x= sorted(result, key=lambda x: x[0][-1])\n",
    "    return sorted_x[0] #result point, path, cost"
   ]
  },
  {
   "cell_type": "markdown",
   "id": "f0567d06",
   "metadata": {},
   "source": [
    "### my function"
   ]
  },
  {
   "cell_type": "code",
   "execution_count": 25,
   "id": "ca980cfc",
   "metadata": {},
   "outputs": [],
   "source": [
    "#POINT1(105.80145149999998 21.035779800404985)\n",
    "#POINT2(105.78767219999999 21.036938200405007)\n",
    "result=problem9(long1=105.80145149999998,\n",
    "lat1= 21.035779800404985,\n",
    "long2=105.78767219999999,\n",
    "lat2=21.036938200405007)"
   ]
  },
  {
   "cell_type": "code",
   "execution_count": 26,
   "id": "d58095a3",
   "metadata": {},
   "outputs": [
    {
     "data": {
      "text/plain": [
       "[('(105.78894929999998,21.034648300404964)',\n",
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n",
       "  1813.2061564787077)]"
      ]
     },
     "execution_count": 26,
     "metadata": {},
     "output_type": "execute_result"
    }
   ],
   "source": [
    "result  #union"
   ]
  },
  {
   "cell_type": "code",
   "execution_count": 40,
   "id": "2f535958",
   "metadata": {},
   "outputs": [
    {
     "name": "stdout",
     "output_type": "stream",
     "text": [
      "Elapsed time: 253.18822329999966 seconds\n"
     ]
    }
   ],
   "source": [
    "#index\n",
    "elapsed_time = timeit.timeit(\"\"\"problem9(long1=105.80145149999998,\n",
    "lat1= 21.035779800404985,\n",
    "long2=105.78767219999999,\n",
    "lat2=21.036938200405007)\"\"\", globals=globals(), number=1)\n",
    "print(f\"Elapsed time: {elapsed_time} seconds\")"
   ]
  },
  {
   "cell_type": "code",
   "execution_count": 34,
   "id": "449442b1",
   "metadata": {},
   "outputs": [
    {
     "name": "stdout",
     "output_type": "stream",
     "text": [
      "Elapsed time: 406.2500336000003 seconds\n"
     ]
    }
   ],
   "source": [
    "#no index\n",
    "elapsed_time = timeit.timeit(\"\"\"problem9(long1=105.80145149999998,\n",
    "lat1= 21.035779800404985,\n",
    "long2=105.78767219999999,\n",
    "lat2=21.036938200405007)\"\"\", globals=globals(), number=1)\n",
    "print(f\"Elapsed time: {elapsed_time} seconds\")"
   ]
  },
  {
   "cell_type": "markdown",
   "id": "90988b92",
   "metadata": {},
   "source": [
    "# with a set of point"
   ]
  },
  {
   "cell_type": "code",
   "execution_count": 70,
   "id": "90a0c809",
   "metadata": {},
   "outputs": [],
   "source": [
    "import psycopg2\n",
    "conn = psycopg2.connect(database=\"osm\",\n",
    "                        host=\"localhost\",\n",
    "                        user=\"postgres\",\n",
    "                        password=\"00000\",\n",
    "                        port=\"5432\")\n",
    "db = conn.cursor()"
   ]
  },
  {
   "cell_type": "code",
   "execution_count": 7,
   "id": "5095e69f",
   "metadata": {},
   "outputs": [],
   "source": [
    "db.execute(f\"\"\"\n",
    "    select long, lat from geometries_vn\n",
    "    where amenity ='hospital'\n",
    "    AND ST_Within(way, (SELECT way FROM planet_osm_polygon p WHERE name = 'Quận Hoàn Kiếm'))\n",
    "\"\"\")\n",
    "h=db.fetchall()"
   ]
  },
  {
   "cell_type": "code",
   "execution_count": 35,
   "id": "28e8080f",
   "metadata": {},
   "outputs": [],
   "source": [
    "import itertools\n",
    "# for b in h:\n",
    "#     print(b)"
   ]
  },
  {
   "cell_type": "markdown",
   "id": "a1ac58bb",
   "metadata": {},
   "source": [
    "### my function"
   ]
  },
  {
   "cell_type": "code",
   "execution_count": 36,
   "id": "3a817c19",
   "metadata": {},
   "outputs": [],
   "source": [
    "dis=0\n",
    "end=[]\n",
    "candidat=[]\n",
    "\n",
    "def bePoint():\n",
    "    db.execute(f\"\"\"\n",
    "    select long, lat from geometries\n",
    "    where amenity ='hospital'\n",
    "    AND ST_Within(way, (SELECT way FROM planet_osm_polygon p WHERE osm_id='-9421131'))   \n",
    "\"\"\")\n",
    "    h=db.fetchall() #candidat of Hospital\n",
    "    for b in h:\n",
    "        b=b\n",
    "        db.execute(f\"\"\"\n",
    "    select long, lat,\n",
    "    ST_Distance(ST_Transform(ST_SetSRID(ST_MakePoint(105.8548261, 21.024432000404786), 4326), 3857), \n",
    "                                ST_Transform(ST_SetSRID(ST_MakePoint(long, lat), 4326), 3857)) \n",
    "    FROM geometries\n",
    "                where amenity='restaurant'\n",
    "                AND ST_Within(way, (SELECT way FROM planet_osm_polygon p WHERE  osm_id='-9421131'))\n",
    "                order by ST_Distance(ST_Transform(ST_SetSRID(ST_MakePoint(105.8548261, 21.024432000404786), 4326), 3857), \n",
    "                                ST_Transform(ST_SetSRID(ST_MakePoint(long, lat), 4326), 3857)) \n",
    "                limit 1\n",
    "    \n",
    "    \"\"\")\n",
    "    \n",
    "        r= db.fetchall()  #candidat of Restaurant\n",
    "#     res.append(x)\n",
    "#     sorted_res = sorted(res, key=lambda x: x[0][-1])\n",
    "    #r[0][0], r[0][1]: long lat of each Restaurant point\n",
    "        db.execute(f\"\"\"select long, lat,\n",
    "    ST_Distance(ST_Transform(ST_SetSRID(ST_MakePoint({r[0][0]}, {r[0][1]}), 4326), 3857), \n",
    "                                ST_Transform(ST_SetSRID(ST_MakePoint(long, lat), 4326), 3857)) \n",
    "    FROM geometries\n",
    "                where amenity='atm'\n",
    "                AND ST_Within(way, (SELECT way FROM planet_osm_polygon p WHERE  osm_id='-9421131'))\n",
    "                order by ST_Distance(ST_Transform(ST_SetSRID(ST_MakePoint({r[0][0]}, {r[0][1]}), 4326), 3857), \n",
    "                                ST_Transform(ST_SetSRID(ST_MakePoint(long, lat), 4326), 3857)) \n",
    "                                \n",
    "                limit 1\"\"\")\n",
    "        a= db.fetchall()   #candidat of ATM \n",
    "    \n",
    "        if r[0][2]> a[0][2]:  # r[0][2]: distance from Restaurant to Hospital\n",
    "            dis= r[0][2]\n",
    "        else:\n",
    "            dis= a[0][2]   ## a[0][2]: distance from Restaurant to ATM\n",
    "        \n",
    "        db.execute(f\"\"\"\n",
    "    select long, lat\n",
    "    FROM geometries\n",
    "                where amenity='hospital'\n",
    "                AND ST_Within(way, (SELECT way FROM planet_osm_polygon p WHERE  osm_id='-9421131'))\n",
    "                and ST_Distance(ST_Transform(ST_SetSRID(ST_MakePoint({r[0][0]}, {r[0][1]}), 4326), 3857), \n",
    "                                ST_Transform(ST_SetSRID(ST_MakePoint(long, lat), 4326), 3857))<={dis}  \n",
    "    \"\"\")\n",
    "        h_nn= db.fetchall() #new candidat of Hospital\n",
    "    \n",
    "        db.execute(f\"\"\"\n",
    "    select long, lat\n",
    "    FROM geometries\n",
    "                where amenity='atm'\n",
    "                AND ST_Within(way, (SELECT way FROM planet_osm_polygon p WHERE  osm_id='-9421131'))\n",
    "                and ST_Distance(ST_Transform(ST_SetSRID(ST_MakePoint({r[0][0]}, {r[0][1]}), 4326), 3857), \n",
    "                                ST_Transform(ST_SetSRID(ST_MakePoint(long, lat), 4326), 3857))<={dis}  \n",
    "    \"\"\")\n",
    "        a_nn= db.fetchall() #new candidat of ATM\n",
    "    \n",
    "        for i, z in itertools.product(h_nn,a_nn):\n",
    "            db.execute(f\"\"\"\n",
    "            WITH start1 AS (\n",
    "          SELECT topo.source\n",
    "          FROM osm_2po_4pgr as topo\n",
    "          ORDER BY topo.geom_way <-> ST_SetSRID(\n",
    "        ST_GeomFromText('POINT({r[0][0]} {r[0][1]})'),4326) \n",
    "          LIMIT 1)\n",
    "\n",
    "        ,start2 as (\n",
    "        SELECT topo.source\n",
    "          FROM osm_2po_4pgr as topo\n",
    "          ORDER BY topo.geom_way <-> ST_SetSRID(\n",
    "            ST_GeomFromText('POINT({z[0]} {z[1]})'),4326) \n",
    "          LIMIT 1)\n",
    "        ,destination AS (\n",
    "          SELECT topo.source \n",
    "          FROM osm_2po_4pgr as topo\n",
    "          ORDER BY topo.geom_way <-> ST_SetSRID(\n",
    "        ST_GeomFromText('POINT({i[0]} {i[1]})'),4326) \n",
    "          LIMIT 1\n",
    "        )\n",
    "        SELECT ST_Union(geom_way), sum(di.cost) as realcost, {i}, {z},{r[0]}\n",
    "                    FROM pgr_dijkstra('\n",
    "                            SELECT id,\n",
    "                                   source,\n",
    "                                   target,\n",
    "                                    ST_Length(ST_Transform(geom_way, 3857)) AS cost\n",
    "                            FROM osm_2po_4pgr',\n",
    "                                    array(SELECT source FROM start1 ),\n",
    "                                    array(SELECT source FROM destination UNION SELECT source FROM start2),\n",
    "                                    directed := false) AS di\n",
    "                    JOIN   osm_2po_4pgr AS pt\n",
    "                    ON   di.edge = pt.id\n",
    "                      \"\"\")\n",
    "            c= db.fetchall() #candidate of 3 point and cost    \n",
    "#         Some point has not path and cost, it means they are not reach to others\n",
    "#         if c[0][0] is not None:  \n",
    "            candidat.append(c)\n",
    "        end= sorted(candidat, key=lambda x: x[0][1])[0] #result for the smallest cost\n",
    "# #     candidat1= sorted_c\n",
    "#     end.append(candidat)\n",
    "    return end"
   ]
  },
  {
   "cell_type": "code",
   "execution_count": 77,
   "id": "c318fb28",
   "metadata": {},
   "outputs": [
    {
     "data": {
      "text/plain": [
       "[('0102000020E61000000400000004BBAB68BD765A40126E8D637F0635406A6CAF05BD765A40BBAAFDE77A063540CA07F30DBB765A40A314BE0864063540BE45CC91BA765A400BF20E4B5E063540',\n",
       "  63.24046506662777,\n",
       "  '(105.8548261,21.024432000404786)',\n",
       "  '(105.8553356,21.024990100404796)',\n",
       "  '(105.8549087,21.024559900404793,17.810343901958767)')]"
      ]
     },
     "execution_count": 77,
     "metadata": {},
     "output_type": "execute_result"
    }
   ],
   "source": [
    "bePoint() #path, cost, hospital, atm, restaurant"
   ]
  },
  {
   "cell_type": "code",
   "execution_count": 41,
   "id": "d8d6ac81",
   "metadata": {},
   "outputs": [
    {
     "name": "stdout",
     "output_type": "stream",
     "text": [
      "Elapsed time: 49.919413100000384 seconds\n"
     ]
    }
   ],
   "source": [
    "#index\n",
    "elapsed_time = timeit.timeit(\"bePoint()\", globals=globals(), number=1)\n",
    "print(f\"Elapsed time: {elapsed_time} seconds\")"
   ]
  },
  {
   "cell_type": "code",
   "execution_count": 37,
   "id": "214363cc",
   "metadata": {},
   "outputs": [
    {
     "name": "stdout",
     "output_type": "stream",
     "text": [
      "Elapsed time: 72.12470289999965 seconds\n"
     ]
    }
   ],
   "source": [
    "#no index\n",
    "elapsed_time = timeit.timeit(\"bePoint()\", globals=globals(), number=1)\n",
    "print(f\"Elapsed time: {elapsed_time} seconds\")"
   ]
  },
  {
   "cell_type": "code",
   "execution_count": null,
   "id": "5e9748ed",
   "metadata": {},
   "outputs": [],
   "source": []
  }
 ],
 "metadata": {
  "kernelspec": {
   "display_name": "Python 3 (ipykernel)",
   "language": "python",
   "name": "python3"
  },
  "language_info": {
   "codemirror_mode": {
    "name": "ipython",
    "version": 3
   },
   "file_extension": ".py",
   "mimetype": "text/x-python",
   "name": "python",
   "nbconvert_exporter": "python",
   "pygments_lexer": "ipython3",
   "version": "3.9.12"
  }
 },
 "nbformat": 4,
 "nbformat_minor": 5
}
